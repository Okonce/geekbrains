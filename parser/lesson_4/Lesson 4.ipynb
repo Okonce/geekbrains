{
 "cells": [
  {
   "cell_type": "code",
   "execution_count": null,
   "outputs": [],
   "source": [
    "%pip install lxml"
   ],
   "metadata": {
    "collapsed": false,
    "pycharm": {
     "name": "#%%\n"
    }
   }
  },
  {
   "cell_type": "code",
   "execution_count": 2,
   "metadata": {
    "ExecuteTime": {
     "end_time": "2021-08-14T17:26:39.796707Z",
     "start_time": "2021-08-14T17:26:39.179475Z"
    }
   },
   "outputs": [],
   "source": [
    "# https://ru.ebay.com/b/Wristwatches/31387/bn_2408451\n",
    "\n",
    "from lxml import html\n",
    "import requests\n",
    "from pprint import pprint"
   ]
  },
  {
   "cell_type": "code",
   "execution_count": 3,
   "metadata": {
    "ExecuteTime": {
     "end_time": "2021-08-14T17:29:19.312225Z",
     "start_time": "2021-08-14T17:29:19.308371Z"
    }
   },
   "outputs": [],
   "source": [
    "header = {'User-Agent': 'Mozilla/5.0 (Macintosh; Intel Mac OS X 10_15_7) AppleWebKit/537.36 (KHTML, like Gecko) Chrome/92.0.4515.131 Safari/537.36'}"
   ]
  },
  {
   "cell_type": "code",
   "execution_count": 4,
   "metadata": {
    "ExecuteTime": {
     "end_time": "2021-08-14T17:29:47.511021Z",
     "start_time": "2021-08-14T17:29:45.284209Z"
    }
   },
   "outputs": [],
   "source": [
    "response = requests.get('https://ru.ebay.com/b/Wristwatches/31387/bn_2408451?_pgn=2', headers=header)"
   ]
  },
  {
   "cell_type": "code",
   "execution_count": 5,
   "metadata": {
    "ExecuteTime": {
     "end_time": "2021-08-14T17:30:14.457010Z",
     "start_time": "2021-08-14T17:30:14.414475Z"
    }
   },
   "outputs": [],
   "source": [
    "dom = html.fromstring(response.text)"
   ]
  },
  {
   "cell_type": "code",
   "execution_count": 8,
   "metadata": {
    "ExecuteTime": {
     "end_time": "2021-08-14T17:36:01.972378Z",
     "start_time": "2021-08-14T17:36:01.967195Z"
    }
   },
   "outputs": [],
   "source": [
    "names = dom.xpath(\"//h3[@class='s-item__title']/text()\")"
   ]
  },
  {
   "cell_type": "code",
   "execution_count": 10,
   "metadata": {
    "ExecuteTime": {
     "end_time": "2021-08-14T17:36:24.431829Z",
     "start_time": "2021-08-14T17:36:24.414291Z"
    },
    "scrolled": true
   },
   "outputs": [
    {
     "name": "stdout",
     "output_type": "stream",
     "text": [
      "['A-158W - Casio ретро цифровые унисекс часы оригинал цифровой A158 + подарок '\n",
      " 'чехол',\n",
      " 'Кожаные мужские часы лучший бренд роскошные дата часы водонепроницаемые '\n",
      " 'наручные часы для мужчин',\n",
      " 'Casio G-SHOCK Frogman Королевского флота модель GWF-A1000RN-8AJR',\n",
      " 'Винтажный гражданин Gp автоматические мужские Японии он работает товар',\n",
      " \"Vintage Men'S Titoni Airmaster 21 камней titoflex ручной намотки наручные \"\n",
      " 'часы',\n",
      " 'Винтажные мужские Avia Марино дайверы часы хронограф обслуживался с ремешком '\n",
      " 'Tropic',\n",
      " 'Chenxi мужские золотые часы повседневный бизнес стальной наручные часы '\n",
      " 'недели дата мужчины часы',\n",
      " 'Роскошный дизайн кварцевые часы',\n",
      " 'Мужские модные светодиодные цифровые сигнализации Дата армейские часы '\n",
      " 'водонепроницаемые спортивные наручные часы',\n",
      " \"Vintage Men'S West End Watch Co. sowan Prima автоматический день и дата \"\n",
      " 'наручные часы',\n",
      " \"Vintage Men'S Favre-Leuba Geneve Twin Power ручной намотки рабочие наручные \"\n",
      " 'часы',\n",
      " 'Karen Millen розовое золото цветные часы, новые с ценниками',\n",
      " 'Ретро компьютерщик 80-х годов необычный калькулятор мужские женские наручные '\n",
      " 'часы 7 цвет цифровой',\n",
      " 'Электронный цифровой водонепроницаемый светодиодный дисплей наручные часы '\n",
      " 'для ребенка мальчик девочка дети',\n",
      " 'Traser P66 Green Spirit 105542 Professional Herrenuhr Armbanduhr',\n",
      " 'Восток 650841 командирские российские военные автоматические наручные '\n",
      " 'часы-красный',\n",
      " 'Planche plongée Marine Nationale Bianchi 300 MN diver desk + CASIO 3203',\n",
      " 'Часы Восток Командирские',\n",
      " 'Часы Восток по Гринвичу',\n",
      " '🌈 совершенно новый аналоговый дизайн часы ЛГБТ гей-Прайд Радуга ремень '\n",
      " 'повседневный официальное подарок',\n",
      " 'Citizen Eco-Drive Titanium Wr 100 наручные часы',\n",
      " 'Montre intelligente noire Bluetooth Fitness Tracker pour téléphone Android '\n",
      " 'iOS',\n",
      " 'Invicta Shaq болт 1.4CTW бриллиант стальных швейцарских Mvt розовое золото 2 '\n",
      " 'тон часы 60 мм новый',\n",
      " 'AUTOMATIK -  KONVOLUT HERREN UND DAMEN ARMBANDUHREN - Defekt',\n",
      " 'Модный роскошный мужской женский наручные часы кварцевые аналоговые сталь '\n",
      " 'кожа повседневные новые',\n",
      " 'A Lange & Sohne 1815 вверх/вниз розового золота',\n",
      " 'HMT Sona Sottile Mano a Carica Placcato Oro Uomo 17 Gioielli Vintage Watch '\n",
      " 'Run',\n",
      " 'Rare AVIATION BBR 978 military Air clock chronograph 60mm A REVISER BBR '\n",
      " '978NR',\n",
      " 'Police Hamnoy PEWJQ2003041 Herrenuhr Armbanduhr zweite Zeitzone '\n",
      " 'Silikonarmband',\n",
      " 'Invicta Мужская коллекция персонажа Папай часы модель 27418',\n",
      " 'Orologio da uomo AMST Orologio da polso impermeabile sportivo F0C1',\n",
      " 'Herren Trendy Ultra-Thin Minimalist Uhr Schlankes Stahlband Edelstahl Quarz '\n",
      " 'DE',\n",
      " 'Мужчины 2021 роскошь мужчин элегантный тонкий бизнес сетки из нержавеющей '\n",
      " 'стали кварцевые часы',\n",
      " 'Luxus Herren Edelstahl Uhr LED Sport Datum Armband Armbanduhr Mode Digital '\n",
      " 'T7I0',\n",
      " 'OROLOGIO PARLANTE VOCE ANZIANI BAMBINI NON VEDENTI VOCALE SVEGLIA BATTERIA '\n",
      " '3VOLT',\n",
      " 'Montre pour homme de travail en caoutchouc en acier inoxydable',\n",
      " 'Skmei роскошный унисекс цифровые светодиодные часы дата Sport открытый '\n",
      " 'электронные часы 1628',\n",
      " \"A Bulova 'Mil-W-3818A' стиль кварцевые часы. сделанный на заказ. совершенно \"\n",
      " 'новый',\n",
      " 'Casio Vintage (1984) F-11 модуль 155 часы ультра редкий Япония рабочая',\n",
      " 'Винтаж ретро мужские кожаные манжеты браслет классные часы панк хиппи '\n",
      " 'широкий коричневый горячий',\n",
      " 'orologio bianco gomma per detenuto carcere  wristwatch  trasparente dietro '\n",
      " 'pila',\n",
      " 'Мужские часы Fossil хронограф Нержавеющая сталь с коробкой',\n",
      " 'Женские часы Femme 2021 женские сетка пояс ультра-тонкий моды роскошные '\n",
      " 'наручные часы',\n",
      " 'Hmt Pilota Manual A carica Uomo Acciaio Vintage ParaShock 17 Rubini Orologio',\n",
      " 'Мужские кожаные официального бизнес повседневный аналоговые кварцевые часы '\n",
      " 'наручные Сюита A4J8',\n",
      " '✅OROLOGIO DIESEL DZ4360 - 2 ANNI DI GARANZIA✅',\n",
      " \"Vintage Men'S Enicar 17 Star Jewels ручной намотки рабочие отличные наручные \"\n",
      " 'часы',\n",
      " \"Vintage Men'S Favre-Leuba Geneve морской король ручной намотки рабочие \"\n",
      " 'наручные часы']\n"
     ]
    }
   ],
   "source": [
    "pprint(names)"
   ]
  },
  {
   "cell_type": "code",
   "execution_count": 11,
   "metadata": {
    "ExecuteTime": {
     "end_time": "2021-08-14T17:38:00.179141Z",
     "start_time": "2021-08-14T17:38:00.174452Z"
    }
   },
   "outputs": [],
   "source": [
    "links = dom.xpath(\"//h3[@class='s-item__title']/../@href\")"
   ]
  },
  {
   "cell_type": "code",
   "execution_count": 14,
   "metadata": {
    "ExecuteTime": {
     "end_time": "2021-08-14T17:38:36.059755Z",
     "start_time": "2021-08-14T17:38:36.054968Z"
    }
   },
   "outputs": [
    {
     "name": "stdout",
     "output_type": "stream",
     "text": [
      "48\n"
     ]
    }
   ],
   "source": [
    "pprint(len(links))"
   ]
  },
  {
   "cell_type": "code",
   "execution_count": 6,
   "metadata": {
    "ExecuteTime": {
     "end_time": "2021-08-14T17:35:13.222649Z",
     "start_time": "2021-08-14T17:35:13.217950Z"
    }
   },
   "outputs": [],
   "source": [
    "watches = dom.xpath(\"//li[contains(@class,'s-item')]\")"
   ]
  },
  {
   "cell_type": "code",
   "execution_count": 15,
   "metadata": {
    "ExecuteTime": {
     "end_time": "2021-08-14T17:49:32.585170Z",
     "start_time": "2021-08-14T17:49:32.511955Z"
    }
   },
   "outputs": [
    {
     "name": "stdout",
     "output_type": "stream",
     "text": [
      "[{'info': ['61 продано'],\n",
      "  'link': ['https://www.ebay.com/p/70303396?iid=183893069875'],\n",
      "  'name': ['A-158W - Casio ретро цифровые унисекс часы оригинал цифровой A158 '\n",
      "           '+ подарок чехол'],\n",
      "  'price': ['1\\xa0831,84 руб.']},\n",
      " {'info': [],\n",
      "  'link': ['https://www.ebay.com/itm/174890847875?hash=item28b84e8e83:g:aqgAAOSweQNhF2GX'],\n",
      "  'name': ['Кожаные мужские часы лучший бренд роскошные дата часы '\n",
      "           'водонепроницаемые наручные часы для мужчин'],\n",
      "  'price': ['439,09 руб.']},\n",
      " {'info': [],\n",
      "  'link': ['https://www.ebay.com/p/24045960216?iid=224572125542'],\n",
      "  'name': ['Casio G-SHOCK Frogman Королевского флота модель GWF-A1000RN-8AJR'],\n",
      "  'price': ['82\\xa0905,00 руб.']},\n",
      " {'info': [],\n",
      "  'link': ['https://www.ebay.com/p/26004285120?iid=184997706344'],\n",
      "  'name': ['Винтажный гражданин Gp автоматические мужские Японии он работает '\n",
      "           'товар'],\n",
      "  'price': ['2\\xa0784,78 руб.']},\n",
      " {'info': [],\n",
      "  'link': ['https://www.ebay.com/itm/194286530013?hash=item2d3c612ddd:g:ePgAAOSwkCZhCkxa'],\n",
      "  'name': [\"Vintage Men'S Titoni Airmaster 21 камней titoflex ручной намотки \"\n",
      "           'наручные часы'],\n",
      "  'price': ['3\\xa0654,93 руб.']},\n",
      " {'info': [],\n",
      "  'link': ['https://www.ebay.com/itm/114935717177?hash=item1ac2b3dd39:g:aLAAAOSwSMRgLSfO'],\n",
      "  'name': ['Винтажные мужские Avia Марино дайверы часы хронограф обслуживался '\n",
      "           'с ремешком Tropic'],\n",
      "  'price': ['80\\xa0227,68 руб.']},\n",
      " {'info': ['Отслеживающих: 16'],\n",
      "  'link': ['https://www.ebay.com/itm/265099177433?hash=item3db9246dd9:g:l~8AAOSw9CdgWpdX&var=564970902875'],\n",
      "  'name': ['Chenxi мужские золотые часы повседневный бизнес стальной наручные '\n",
      "           'часы недели дата мужчины часы'],\n",
      "  'price': ['1\\xa0024,78 руб.', ' до ', '1\\xa0061,43 руб.']},\n",
      " {'info': [],\n",
      "  'link': ['https://www.ebay.com/itm/184997978861?hash=item2b12bd22ed:g:O10AAOSwskphF5nP'],\n",
      "  'name': ['Роскошный дизайн кварцевые часы'],\n",
      "  'price': ['3\\xa0553,38 руб.']},\n",
      " {'info': ['174 продано'],\n",
      "  'link': ['https://www.ebay.com/itm/291800280318?hash=item43f0a6ecfe:g:xfcAAOSwNuxXa1Pu&var=590811014757'],\n",
      "  'name': ['Мужские модные светодиодные цифровые сигнализации Дата армейские '\n",
      "           'часы водонепроницаемые спортивные наручные часы'],\n",
      "  'price': ['365,78 руб.']},\n",
      " {'info': [],\n",
      "  'link': ['https://www.ebay.com/itm/194286539471?hash=item2d3c6152cf:g:E9UAAOSwqOBhC7ei'],\n",
      "  'name': [\"Vintage Men'S West End Watch Co. sowan Prima автоматический день и \"\n",
      "           'дата наручные часы'],\n",
      "  'price': ['6\\xa0600,00 руб.']},\n",
      " {'info': [],\n",
      "  'link': ['https://www.ebay.com/itm/194286546415?hash=item2d3c616def:g:PU4AAOSwW5JhB9BW'],\n",
      "  'name': [\"Vintage Men'S Favre-Leuba Geneve Twin Power ручной намотки рабочие \"\n",
      "           'наручные часы'],\n",
      "  'price': ['3\\xa0045,61 руб.']},\n",
      " {'info': [],\n",
      "  'link': ['https://www.ebay.com/itm/144153322723?hash=item21903524e3:g:~y0AAOSw85JhFqwj'],\n",
      "  'name': ['Karen Millen розовое золото цветные часы, новые с ценниками'],\n",
      "  'price': ['1\\xa0523,31 руб.']},\n",
      " {'info': ['81 продано'],\n",
      "  'link': ['https://www.ebay.com/itm/323896757767?hash=item4b69c04e07:g:jT4AAOSwrTFdZe1c&var=512927398435'],\n",
      "  'name': ['Ретро компьютерщик 80-х годов необычный калькулятор мужские '\n",
      "           'женские наручные часы 7 цвет цифровой'],\n",
      "  'price': ['153,20 руб.', ' до ', '174,46 руб.']},\n",
      " {'info': [],\n",
      "  'link': ['https://www.ebay.com/itm/353585703505?hash=item525359aa51:g:KtYAAOSwOItg-Wv8&var=622887484626'],\n",
      "  'name': ['Электронный цифровой водонепроницаемый светодиодный дисплей '\n",
      "           'наручные часы для ребенка мальчик девочка дети'],\n",
      "  'price': ['72,57 руб.', ' до ', '168,60 руб.']},\n",
      " {'info': [],\n",
      "  'link': ['https://www.ebay.com/itm/194288191920?hash=item2d3c7a89b0:g:Bi4AAOSw2T1fPq-B'],\n",
      "  'name': ['Traser P66 Green Spirit 105542 Professional Herrenuhr Armbanduhr'],\n",
      "  'price': ['17\\xa0202,81 руб.']},\n",
      " {'info': ['Отслеживающих: 26'],\n",
      "  'link': ['https://www.ebay.com/p/24034188705?iid=284296694473'],\n",
      "  'name': ['Восток 650841 командирские российские военные автоматические '\n",
      "           'наручные часы-красный'],\n",
      "  'price': ['6\\xa0304,06 руб.']},\n",
      " {'info': [],\n",
      "  'link': ['https://www.ebay.com/itm/154569292688?hash=item23fd0c3b90:g:VE0AAOSwvW5gkriZ'],\n",
      "  'name': ['Planche plongée Marine Nationale Bianchi 300 MN diver desk + CASIO '\n",
      "           '3203'],\n",
      "  'price': ['73\\xa0479,33 руб.']},\n",
      " {'info': [],\n",
      "  'link': ['https://www.ebay.com/itm/194288202434?hash=item2d3c7ab2c2:g:eDQAAOSw9xJhF-pl'],\n",
      "  'name': ['Часы Восток Командирские'],\n",
      "  'price': ['3\\xa0554,39 руб.']},\n",
      " {'info': [],\n",
      "  'link': ['https://www.ebay.com/itm/194288206535?hash=item2d3c7ac2c7:g:AnkAAOSwopVhF-mC'],\n",
      "  'name': ['Часы Восток по Гринвичу'],\n",
      "  'price': ['5\\xa0077,70 руб.']},\n",
      " {'info': [],\n",
      "  'link': ['https://www.ebay.com/itm/124763507473?hash=item1d0c7c0b11:g:0usAAOSwd0Rgv8tR'],\n",
      "  'name': ['🌈 совершенно новый аналоговый дизайн часы ЛГБТ гей-Прайд Радуга '\n",
      "           'ремень повседневный официальное подарок'],\n",
      "  'price': ['401,14 руб.']},\n",
      " {'info': [],\n",
      "  'link': ['https://www.ebay.com/itm/144154759657?hash=item21904b11e9:g:wTAAAOSw4ZhhF-bl'],\n",
      "  'name': ['Citizen Eco-Drive Titanium Wr 100 наручные часы'],\n",
      "  'price': ['4\\xa0569,93 руб.']},\n",
      " {'info': ['Отслеживающих: 13'],\n",
      "  'link': ['https://www.ebay.com/itm/274642835501?hash=item3ff1fd182d:g:4-QAAOSw1m5f-Vnn'],\n",
      "  'name': ['Montre intelligente noire Bluetooth Fitness Tracker pour téléphone '\n",
      "           'Android iOS'],\n",
      "  'price': ['1\\xa0663,23 руб.']},\n",
      " {'info': ['Остался 1 тов.!'],\n",
      "  'link': ['https://www.ebay.com/itm/264951676143?hash=item3db059bcef:g:lXwAAOSw5J1fvd6v'],\n",
      "  'name': ['Invicta Shaq болт 1.4CTW бриллиант стальных швейцарских Mvt '\n",
      "           'розовое золото 2 тон часы 60 мм новый'],\n",
      "  'price': ['31\\xa0666,18 руб.']},\n",
      " {'info': [],\n",
      "  'link': ['https://www.ebay.com/itm/224572143324?hash=item34498af6dc:g:kvEAAOSwFAJhF-NE'],\n",
      "  'name': ['AUTOMATIK -  KONVOLUT HERREN UND DAMEN ARMBANDUHREN - Defekt'],\n",
      "  'price': ['1\\xa0556,03 руб.']},\n",
      " {'info': [],\n",
      "  'link': ['https://www.ebay.com/itm/114934515025?hash=item1ac2a18551:g:Uj8AAOSwKLphFocz'],\n",
      "  'name': ['Модный роскошный мужской женский наручные часы кварцевые '\n",
      "           'аналоговые сталь кожа повседневные новые'],\n",
      "  'price': ['72,57 руб.']},\n",
      " {'info': [],\n",
      "  'link': ['https://www.ebay.com/itm/194287723533?hash=item2d3c73640d:g:pkgAAOSwfP9hFPkT'],\n",
      "  'name': ['A Lange & Sohne 1815 вверх/вниз розового золота'],\n",
      "  'price': ['1\\xa0730\\xa0068,90 руб.']},\n",
      " {'info': ['Остался 1 тов.!'],\n",
      "  'link': ['https://www.ebay.com/itm/384031415702?hash=item596a0e5d96:g:VVQAAOSwRodf3i7Q'],\n",
      "  'name': ['HMT Sona Sottile Mano a Carica Placcato Oro Uomo 17 Gioielli '\n",
      "           'Vintage Watch Run'],\n",
      "  'price': ['1\\xa0836,98 руб.']},\n",
      " {'info': [],\n",
      "  'link': ['https://www.ebay.com/itm/154569292687?hash=item23fd0c3b8f:g:JDgAAOSwMxpgbHRR'],\n",
      "  'name': ['Rare AVIATION BBR 978 military Air clock chronograph 60mm A '\n",
      "           'REVISER BBR 978NR'],\n",
      "  'price': ['30\\xa0256,19 руб.']},\n",
      " {'info': [],\n",
      "  'link': ['https://www.ebay.com/p/9043288074?iid=194288190587&rt=nc'],\n",
      "  'name': ['Police Hamnoy PEWJQ2003041 Herrenuhr Armbanduhr zweite Zeitzone '\n",
      "           'Silikonarmband'],\n",
      "  'price': ['25\\xa0847,43 руб.']},\n",
      " {'info': [],\n",
      "  'link': ['https://www.ebay.com/itm/114936028353?hash=item1ac2b89cc1:g:TKcAAOSw8JVhF-d7'],\n",
      "  'name': ['Invicta Мужская коллекция персонажа Папай часы модель 27418'],\n",
      "  'price': ['7\\xa0257,00 руб.']},\n",
      " {'info': ['Отслеживающих: 14'],\n",
      "  'link': ['https://www.ebay.com/itm/124348193001?hash=item1cf3bad8e9:g:ctQAAOSwZrxfag6f'],\n",
      "  'name': ['Orologio da uomo AMST Orologio da polso impermeabile sportivo '\n",
      "           'F0C1'],\n",
      "  'price': ['1\\xa0312,25 руб.']},\n",
      " {'info': [],\n",
      "  'link': ['https://www.ebay.com/itm/402615060138?hash=item5dbdba46aa:g:q0EAAOSwYBRf3WAO&var=672897051786'],\n",
      "  'name': ['Herren Trendy Ultra-Thin Minimalist Uhr Schlankes Stahlband '\n",
      "           'Edelstahl Quarz DE'],\n",
      "  'price': ['327,63 руб.']},\n",
      " {'info': [],\n",
      "  'link': ['https://www.ebay.com/itm/165016981155?hash=item266bc74ea3:g:cOcAAOSwLBVhFrw2'],\n",
      "  'name': ['Мужчины 2021 роскошь мужчин элегантный тонкий бизнес сетки из '\n",
      "           'нержавеющей стали кварцевые часы'],\n",
      "  'price': ['658,99 руб.']},\n",
      " {'info': [],\n",
      "  'link': ['https://www.ebay.com/itm/123934178925?hash=item1cdb0d7e6d:g:VIsAAOSwavRdnggA'],\n",
      "  'name': ['Luxus Herren Edelstahl Uhr LED Sport Datum Armband Armbanduhr Mode '\n",
      "           'Digital T7I0'],\n",
      "  'price': ['514,36 руб.']},\n",
      " {'info': ['131 продано'],\n",
      "  'link': ['https://www.ebay.com/itm/283652464966?hash=item420b012146:g:b3gAAOSwHAdZsGxf'],\n",
      "  'name': ['OROLOGIO PARLANTE VOCE ANZIANI BAMBINI NON VEDENTI VOCALE SVEGLIA '\n",
      "           'BATTERIA 3VOLT'],\n",
      "  'price': ['950,91 руб.']},\n",
      " {'info': ['Отслеживающих: 32'],\n",
      "  'link': ['https://www.ebay.com/itm/274793657997?hash=item3ffafa768d:g:q1kAAOSwMMZgmO0N'],\n",
      "  'name': ['Montre pour homme de travail en caoutchouc en acier inoxydable'],\n",
      "  'price': ['951,77 руб.']},\n",
      " {'info': ['11 продано'],\n",
      "  'link': ['https://www.ebay.com/itm/333907678988?hash=item4dbe72d70c:g:uTIAAOSwqHNgPsOJ&var=542967658492'],\n",
      "  'name': ['Skmei роскошный унисекс цифровые светодиодные часы дата Sport '\n",
      "           'открытый электронные часы 1628'],\n",
      "  'price': ['742,56 руб.', ' до ', '808,53 руб.']},\n",
      " {'info': [],\n",
      "  'link': ['https://www.ebay.com/itm/194288103297?hash=item2d3c792f81:g:nWIAAOSw52phEMx7'],\n",
      "  'name': [\"A Bulova 'Mil-W-3818A' стиль кварцевые часы. сделанный на заказ. \"\n",
      "           'совершенно новый'],\n",
      "  'price': ['507,77 руб.']},\n",
      " {'info': [],\n",
      "  'link': ['https://www.ebay.com/itm/194288124619?hash=item2d3c7982cb:g:AZsAAOSwkMthF9dU'],\n",
      "  'name': ['Casio Vintage (1984) F-11 модуль 155 часы ультра редкий Япония '\n",
      "           'рабочая'],\n",
      "  'price': ['4\\xa0764,70 руб.']},\n",
      " {'info': [],\n",
      "  'link': ['https://www.ebay.com/itm/333478425962?hash=item4da4dcf56a:g:9ScAAOSwARtamK12&var=542571596962'],\n",
      "  'name': ['Винтаж ретро мужские кожаные манжеты браслет классные часы панк '\n",
      "           'хиппи широкий коричневый горячий'],\n",
      "  'price': ['404,94 руб.']},\n",
      " {'info': ['119 продано'],\n",
      "  'link': ['https://www.ebay.com/itm/321776520935?hash=item4aeb600ee7:g:Y1sAAOSwclVbqm80'],\n",
      "  'name': ['orologio bianco gomma per detenuto carcere  wristwatch  '\n",
      "           'trasparente dietro pila'],\n",
      "  'price': ['1\\xa0556,03 руб.']},\n",
      " {'info': [],\n",
      "  'link': ['https://www.ebay.com/itm/154569355157?hash=item23fd0d2f95:g:guAAAOSwBlhfxRUH'],\n",
      "  'name': ['Мужские часы Fossil хронограф Нержавеющая сталь с коробкой'],\n",
      "  'price': ['7\\xa0616,55 руб.']},\n",
      " {'info': [],\n",
      "  'link': ['https://www.ebay.com/itm/165016904506?hash=item266bc6233a:g:c9IAAOSwyL9hFqyP'],\n",
      "  'name': ['Женские часы Femme 2021 женские сетка пояс ультра-тонкий моды '\n",
      "           'роскошные наручные часы'],\n",
      "  'price': ['292,48 руб.']},\n",
      " {'info': [],\n",
      "  'link': ['https://www.ebay.com/itm/133848432837?hash=item1f29fd00c5:g:M4QAAOSw4wVfFZJl'],\n",
      "  'name': ['Hmt Pilota Manual A carica Uomo Acciaio Vintage ParaShock 17 '\n",
      "           'Rubini Orologio'],\n",
      "  'price': ['1\\xa0421,18 руб.']},\n",
      " {'info': [],\n",
      "  'link': ['https://www.ebay.com/itm/324410668957?hash=item4b8861f79d:g:mF0AAOSwHfdfchkF&var=513474972092'],\n",
      "  'name': ['Мужские кожаные официального бизнес повседневный аналоговые '\n",
      "           'кварцевые часы наручные Сюита A4J8'],\n",
      "  'price': ['252,87 руб.', ' до ', '283,34 руб.']},\n",
      " {'info': ['Осталось 2 тов.'],\n",
      "  'link': ['https://www.ebay.com/p/11031191019?iid=164378756320&rt=nc'],\n",
      "  'name': ['✅OROLOGIO DIESEL DZ4360 - 2 ANNI DI GARANZIA✅'],\n",
      "  'price': ['11\\xa0151,57 руб.']},\n",
      " {'info': [],\n",
      "  'link': ['https://www.ebay.com/itm/194286542109?hash=item2d3c615d1d:g:qXQAAOSwn4dhB9D6'],\n",
      "  'name': [\"Vintage Men'S Enicar 17 Star Jewels ручной намотки рабочие \"\n",
      "           'отличные наручные часы'],\n",
      "  'price': ['3\\xa0045,61 руб.']},\n",
      " {'info': [],\n",
      "  'link': ['https://www.ebay.com/itm/194286544416?hash=item2d3c616620:g:oiEAAOSwnFBhB9Dh'],\n",
      "  'name': [\"Vintage Men'S Favre-Leuba Geneve морской король ручной намотки \"\n",
      "           'рабочие наручные часы'],\n",
      "  'price': ['3\\xa0045,61 руб.']}]\n"
     ]
    }
   ],
   "source": [
    "watch_list = []\n",
    "for watch in watches:\n",
    "    watch_data = {}\n",
    "    name = watch.xpath(\".//h3[@class='s-item__title']/text()\")\n",
    "    link = watch.xpath(\".//h3[@class='s-item__title']/../@href\")\n",
    "    price = watch.xpath(\".//span[@class='s-item__price']//text()\")\n",
    "    info = watch.xpath(\".//span[contains(@class,'s-item__hotness')]//text()\")\n",
    "\n",
    "    watch_data['name'] = name\n",
    "    watch_data['link'] = link\n",
    "    watch_data['price'] = price\n",
    "    watch_data['info'] = info\n",
    "\n",
    "    watch_list.append(watch_data)\n",
    "\n",
    "\n",
    "pprint(watch_list)"
   ]
  },
  {
   "cell_type": "code",
   "execution_count": null,
   "metadata": {},
   "outputs": [],
   "source": []
  }
 ],
 "metadata": {
  "kernelspec": {
   "display_name": "working",
   "language": "python",
   "name": "workings"
  },
  "language_info": {
   "codemirror_mode": {
    "name": "ipython",
    "version": 3
   },
   "file_extension": ".py",
   "mimetype": "text/x-python",
   "name": "python",
   "nbconvert_exporter": "python",
   "pygments_lexer": "ipython3",
   "version": "3.7.7"
  },
  "toc": {
   "base_numbering": 1,
   "nav_menu": {},
   "number_sections": true,
   "sideBar": true,
   "skip_h1_title": false,
   "title_cell": "Table of Contents",
   "title_sidebar": "Contents",
   "toc_cell": false,
   "toc_position": {},
   "toc_section_display": true,
   "toc_window_display": false
  },
  "varInspector": {
   "cols": {
    "lenName": 16,
    "lenType": 16,
    "lenVar": 40
   },
   "kernels_config": {
    "python": {
     "delete_cmd_postfix": "",
     "delete_cmd_prefix": "del ",
     "library": "var_list.py",
     "varRefreshCmd": "print(var_dic_list())"
    },
    "r": {
     "delete_cmd_postfix": ") ",
     "delete_cmd_prefix": "rm(",
     "library": "var_list.r",
     "varRefreshCmd": "cat(var_dic_list()) "
    }
   },
   "types_to_exclude": [
    "module",
    "function",
    "builtin_function_or_method",
    "instance",
    "_Feature"
   ],
   "window_display": false
  }
 },
 "nbformat": 4,
 "nbformat_minor": 4
}