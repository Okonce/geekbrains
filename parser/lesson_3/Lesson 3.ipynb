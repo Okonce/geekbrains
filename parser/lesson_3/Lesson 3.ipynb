{
 "cells": [
  {
   "cell_type": "code",
   "execution_count": 8,
   "metadata": {
    "ExecuteTime": {
     "end_time": "2021-08-14T09:53:35.079300Z",
     "start_time": "2021-08-14T09:53:35.075374Z"
    }
   },
   "outputs": [],
   "source": [
    "from pymongo import MongoClient\n",
    "from pprint import pprint"
   ]
  },
  {
   "cell_type": "code",
   "execution_count": 9,
   "metadata": {
    "ExecuteTime": {
     "end_time": "2021-08-14T09:53:35.823674Z",
     "start_time": "2021-08-14T09:53:35.812608Z"
    }
   },
   "outputs": [],
   "source": [
    "client = MongoClient('127.0.0.1', 27017) # localhost and port"
   ]
  },
  {
   "cell_type": "code",
   "execution_count": 10,
   "metadata": {
    "ExecuteTime": {
     "end_time": "2021-08-14T09:53:36.395977Z",
     "start_time": "2021-08-14T09:53:36.392827Z"
    }
   },
   "outputs": [],
   "source": [
    "db = client['ai_0608'] # база данных"
   ]
  },
  {
   "cell_type": "code",
   "execution_count": 11,
   "metadata": {
    "ExecuteTime": {
     "end_time": "2021-08-14T09:53:37.263400Z",
     "start_time": "2021-08-14T09:53:37.261160Z"
    }
   },
   "outputs": [],
   "source": [
    "# db2 = client['bd2']\n",
    "# db3 = client['bd3']"
   ]
  },
  {
   "cell_type": "code",
   "execution_count": 12,
   "metadata": {
    "ExecuteTime": {
     "end_time": "2021-08-14T09:53:37.835897Z",
     "start_time": "2021-08-14T09:53:37.833065Z"
    }
   },
   "outputs": [],
   "source": [
    "persons = db.persons # коллекция\n",
    "books = db.books # коллекция"
   ]
  },
  {
   "cell_type": "code",
   "execution_count": 13,
   "metadata": {
    "ExecuteTime": {
     "end_time": "2021-08-14T09:54:08.921616Z",
     "start_time": "2021-08-14T09:53:38.438130Z"
    },
    "collapsed": true
   },
   "outputs": [
    {
     "ename": "ServerSelectionTimeoutError",
     "evalue": "127.0.0.1:27017: [Errno 111] Connection refused, Timeout: 30s, Topology Description: <TopologyDescription id: 6117929f535827eb8510ae21, topology_type: Single, servers: [<ServerDescription ('127.0.0.1', 27017) server_type: Unknown, rtt: None, error=AutoReconnect('127.0.0.1:27017: [Errno 111] Connection refused')>]>",
     "output_type": "error",
     "traceback": [
      "\u001B[0;31m---------------------------------------------------------------------------\u001B[0m",
      "\u001B[0;31mServerSelectionTimeoutError\u001B[0m               Traceback (most recent call last)",
      "\u001B[0;32m<ipython-input-13-a26f1ca0731c>\u001B[0m in \u001B[0;36m<module>\u001B[0;34m\u001B[0m\n\u001B[1;32m      5\u001B[0m                        \u001B[0;34m\"text\"\u001B[0m\u001B[0;34m:\u001B[0m \u001B[0;34m\"is cool! Wildberry\"\u001B[0m\u001B[0;34m,\u001B[0m\u001B[0;34m\u001B[0m\u001B[0;34m\u001B[0m\u001B[0m\n\u001B[1;32m      6\u001B[0m                        \u001B[0;34m\"tags\"\u001B[0m\u001B[0;34m:\u001B[0m \u001B[0;34m[\u001B[0m\u001B[0;34m'cool'\u001B[0m\u001B[0;34m,\u001B[0m \u001B[0;34m'hot'\u001B[0m\u001B[0;34m,\u001B[0m \u001B[0;34m'ice'\u001B[0m\u001B[0;34m]\u001B[0m\u001B[0;34m,\u001B[0m\u001B[0;34m\u001B[0m\u001B[0;34m\u001B[0m\u001B[0m\n\u001B[0;32m----> 7\u001B[0;31m                        \"date\": '14.06.1983'})\n\u001B[0m",
      "\u001B[0;32m~/miniconda3/envs/working/lib/python3.7/site-packages/pymongo/collection.py\u001B[0m in \u001B[0;36minsert_one\u001B[0;34m(self, document, bypass_document_validation, session)\u001B[0m\n\u001B[1;32m    706\u001B[0m                          \u001B[0mwrite_concern\u001B[0m\u001B[0;34m=\u001B[0m\u001B[0mwrite_concern\u001B[0m\u001B[0;34m,\u001B[0m\u001B[0;34m\u001B[0m\u001B[0;34m\u001B[0m\u001B[0m\n\u001B[1;32m    707\u001B[0m                          \u001B[0mbypass_doc_val\u001B[0m\u001B[0;34m=\u001B[0m\u001B[0mbypass_document_validation\u001B[0m\u001B[0;34m,\u001B[0m\u001B[0;34m\u001B[0m\u001B[0;34m\u001B[0m\u001B[0m\n\u001B[0;32m--> 708\u001B[0;31m                          session=session),\n\u001B[0m\u001B[1;32m    709\u001B[0m             write_concern.acknowledged)\n\u001B[1;32m    710\u001B[0m \u001B[0;34m\u001B[0m\u001B[0m\n",
      "\u001B[0;32m~/miniconda3/envs/working/lib/python3.7/site-packages/pymongo/collection.py\u001B[0m in \u001B[0;36m_insert\u001B[0;34m(self, docs, ordered, check_keys, manipulate, write_concern, op_id, bypass_doc_val, session)\u001B[0m\n\u001B[1;32m    620\u001B[0m             return self._insert_one(\n\u001B[1;32m    621\u001B[0m                 \u001B[0mdocs\u001B[0m\u001B[0;34m,\u001B[0m \u001B[0mordered\u001B[0m\u001B[0;34m,\u001B[0m \u001B[0mcheck_keys\u001B[0m\u001B[0;34m,\u001B[0m \u001B[0mmanipulate\u001B[0m\u001B[0;34m,\u001B[0m \u001B[0mwrite_concern\u001B[0m\u001B[0;34m,\u001B[0m \u001B[0mop_id\u001B[0m\u001B[0;34m,\u001B[0m\u001B[0;34m\u001B[0m\u001B[0;34m\u001B[0m\u001B[0m\n\u001B[0;32m--> 622\u001B[0;31m                 bypass_doc_val, session)\n\u001B[0m\u001B[1;32m    623\u001B[0m \u001B[0;34m\u001B[0m\u001B[0m\n\u001B[1;32m    624\u001B[0m         \u001B[0mids\u001B[0m \u001B[0;34m=\u001B[0m \u001B[0;34m[\u001B[0m\u001B[0;34m]\u001B[0m\u001B[0;34m\u001B[0m\u001B[0;34m\u001B[0m\u001B[0m\n",
      "\u001B[0;32m~/miniconda3/envs/working/lib/python3.7/site-packages/pymongo/collection.py\u001B[0m in \u001B[0;36m_insert_one\u001B[0;34m(self, doc, ordered, check_keys, manipulate, write_concern, op_id, bypass_doc_val, session)\u001B[0m\n\u001B[1;32m    608\u001B[0m \u001B[0;34m\u001B[0m\u001B[0m\n\u001B[1;32m    609\u001B[0m         self.__database.client._retryable_write(\n\u001B[0;32m--> 610\u001B[0;31m             acknowledged, _insert_command, session)\n\u001B[0m\u001B[1;32m    611\u001B[0m \u001B[0;34m\u001B[0m\u001B[0m\n\u001B[1;32m    612\u001B[0m         \u001B[0;32mif\u001B[0m \u001B[0;32mnot\u001B[0m \u001B[0misinstance\u001B[0m\u001B[0;34m(\u001B[0m\u001B[0mdoc\u001B[0m\u001B[0;34m,\u001B[0m \u001B[0mRawBSONDocument\u001B[0m\u001B[0;34m)\u001B[0m\u001B[0;34m:\u001B[0m\u001B[0;34m\u001B[0m\u001B[0;34m\u001B[0m\u001B[0m\n",
      "\u001B[0;32m~/miniconda3/envs/working/lib/python3.7/site-packages/pymongo/mongo_client.py\u001B[0m in \u001B[0;36m_retryable_write\u001B[0;34m(self, retryable, func, session)\u001B[0m\n\u001B[1;32m   1549\u001B[0m     \u001B[0;32mdef\u001B[0m \u001B[0m_retryable_write\u001B[0m\u001B[0;34m(\u001B[0m\u001B[0mself\u001B[0m\u001B[0;34m,\u001B[0m \u001B[0mretryable\u001B[0m\u001B[0;34m,\u001B[0m \u001B[0mfunc\u001B[0m\u001B[0;34m,\u001B[0m \u001B[0msession\u001B[0m\u001B[0;34m)\u001B[0m\u001B[0;34m:\u001B[0m\u001B[0;34m\u001B[0m\u001B[0;34m\u001B[0m\u001B[0m\n\u001B[1;32m   1550\u001B[0m         \u001B[0;34m\"\"\"Internal retryable write helper.\"\"\"\u001B[0m\u001B[0;34m\u001B[0m\u001B[0;34m\u001B[0m\u001B[0m\n\u001B[0;32m-> 1551\u001B[0;31m         \u001B[0;32mwith\u001B[0m \u001B[0mself\u001B[0m\u001B[0;34m.\u001B[0m\u001B[0m_tmp_session\u001B[0m\u001B[0;34m(\u001B[0m\u001B[0msession\u001B[0m\u001B[0;34m)\u001B[0m \u001B[0;32mas\u001B[0m \u001B[0ms\u001B[0m\u001B[0;34m:\u001B[0m\u001B[0;34m\u001B[0m\u001B[0;34m\u001B[0m\u001B[0m\n\u001B[0m\u001B[1;32m   1552\u001B[0m             \u001B[0;32mreturn\u001B[0m \u001B[0mself\u001B[0m\u001B[0;34m.\u001B[0m\u001B[0m_retry_with_session\u001B[0m\u001B[0;34m(\u001B[0m\u001B[0mretryable\u001B[0m\u001B[0;34m,\u001B[0m \u001B[0mfunc\u001B[0m\u001B[0;34m,\u001B[0m \u001B[0ms\u001B[0m\u001B[0;34m,\u001B[0m \u001B[0;32mNone\u001B[0m\u001B[0;34m)\u001B[0m\u001B[0;34m\u001B[0m\u001B[0;34m\u001B[0m\u001B[0m\n\u001B[1;32m   1553\u001B[0m \u001B[0;34m\u001B[0m\u001B[0m\n",
      "\u001B[0;32m~/miniconda3/envs/working/lib/python3.7/contextlib.py\u001B[0m in \u001B[0;36m__enter__\u001B[0;34m(self)\u001B[0m\n\u001B[1;32m    110\u001B[0m         \u001B[0;32mdel\u001B[0m \u001B[0mself\u001B[0m\u001B[0;34m.\u001B[0m\u001B[0margs\u001B[0m\u001B[0;34m,\u001B[0m \u001B[0mself\u001B[0m\u001B[0;34m.\u001B[0m\u001B[0mkwds\u001B[0m\u001B[0;34m,\u001B[0m \u001B[0mself\u001B[0m\u001B[0;34m.\u001B[0m\u001B[0mfunc\u001B[0m\u001B[0;34m\u001B[0m\u001B[0;34m\u001B[0m\u001B[0m\n\u001B[1;32m    111\u001B[0m         \u001B[0;32mtry\u001B[0m\u001B[0;34m:\u001B[0m\u001B[0;34m\u001B[0m\u001B[0;34m\u001B[0m\u001B[0m\n\u001B[0;32m--> 112\u001B[0;31m             \u001B[0;32mreturn\u001B[0m \u001B[0mnext\u001B[0m\u001B[0;34m(\u001B[0m\u001B[0mself\u001B[0m\u001B[0;34m.\u001B[0m\u001B[0mgen\u001B[0m\u001B[0;34m)\u001B[0m\u001B[0;34m\u001B[0m\u001B[0;34m\u001B[0m\u001B[0m\n\u001B[0m\u001B[1;32m    113\u001B[0m         \u001B[0;32mexcept\u001B[0m \u001B[0mStopIteration\u001B[0m\u001B[0;34m:\u001B[0m\u001B[0;34m\u001B[0m\u001B[0;34m\u001B[0m\u001B[0m\n\u001B[1;32m    114\u001B[0m             \u001B[0;32mraise\u001B[0m \u001B[0mRuntimeError\u001B[0m\u001B[0;34m(\u001B[0m\u001B[0;34m\"generator didn't yield\"\u001B[0m\u001B[0;34m)\u001B[0m \u001B[0;32mfrom\u001B[0m \u001B[0;32mNone\u001B[0m\u001B[0;34m\u001B[0m\u001B[0;34m\u001B[0m\u001B[0m\n",
      "\u001B[0;32m~/miniconda3/envs/working/lib/python3.7/site-packages/pymongo/mongo_client.py\u001B[0m in \u001B[0;36m_tmp_session\u001B[0;34m(self, session, close)\u001B[0m\n\u001B[1;32m   1946\u001B[0m             \u001B[0;32mreturn\u001B[0m\u001B[0;34m\u001B[0m\u001B[0;34m\u001B[0m\u001B[0m\n\u001B[1;32m   1947\u001B[0m \u001B[0;34m\u001B[0m\u001B[0m\n\u001B[0;32m-> 1948\u001B[0;31m         \u001B[0ms\u001B[0m \u001B[0;34m=\u001B[0m \u001B[0mself\u001B[0m\u001B[0;34m.\u001B[0m\u001B[0m_ensure_session\u001B[0m\u001B[0;34m(\u001B[0m\u001B[0msession\u001B[0m\u001B[0;34m)\u001B[0m\u001B[0;34m\u001B[0m\u001B[0;34m\u001B[0m\u001B[0m\n\u001B[0m\u001B[1;32m   1949\u001B[0m         \u001B[0;32mif\u001B[0m \u001B[0ms\u001B[0m\u001B[0;34m:\u001B[0m\u001B[0;34m\u001B[0m\u001B[0;34m\u001B[0m\u001B[0m\n\u001B[1;32m   1950\u001B[0m             \u001B[0;32mtry\u001B[0m\u001B[0;34m:\u001B[0m\u001B[0;34m\u001B[0m\u001B[0;34m\u001B[0m\u001B[0m\n",
      "\u001B[0;32m~/miniconda3/envs/working/lib/python3.7/site-packages/pymongo/mongo_client.py\u001B[0m in \u001B[0;36m_ensure_session\u001B[0;34m(self, session)\u001B[0m\n\u001B[1;32m   1933\u001B[0m             \u001B[0;31m# Don't make implicit sessions causally consistent. Applications\u001B[0m\u001B[0;34m\u001B[0m\u001B[0;34m\u001B[0m\u001B[0;34m\u001B[0m\u001B[0m\n\u001B[1;32m   1934\u001B[0m             \u001B[0;31m# should always opt-in.\u001B[0m\u001B[0;34m\u001B[0m\u001B[0;34m\u001B[0m\u001B[0;34m\u001B[0m\u001B[0m\n\u001B[0;32m-> 1935\u001B[0;31m             \u001B[0;32mreturn\u001B[0m \u001B[0mself\u001B[0m\u001B[0;34m.\u001B[0m\u001B[0m__start_session\u001B[0m\u001B[0;34m(\u001B[0m\u001B[0;32mTrue\u001B[0m\u001B[0;34m,\u001B[0m \u001B[0mcausal_consistency\u001B[0m\u001B[0;34m=\u001B[0m\u001B[0;32mFalse\u001B[0m\u001B[0;34m)\u001B[0m\u001B[0;34m\u001B[0m\u001B[0;34m\u001B[0m\u001B[0m\n\u001B[0m\u001B[1;32m   1936\u001B[0m         \u001B[0;32mexcept\u001B[0m \u001B[0;34m(\u001B[0m\u001B[0mConfigurationError\u001B[0m\u001B[0;34m,\u001B[0m \u001B[0mInvalidOperation\u001B[0m\u001B[0;34m)\u001B[0m\u001B[0;34m:\u001B[0m\u001B[0;34m\u001B[0m\u001B[0;34m\u001B[0m\u001B[0m\n\u001B[1;32m   1937\u001B[0m             \u001B[0;31m# Sessions not supported, or multiple users authenticated.\u001B[0m\u001B[0;34m\u001B[0m\u001B[0;34m\u001B[0m\u001B[0;34m\u001B[0m\u001B[0m\n",
      "\u001B[0;32m~/miniconda3/envs/working/lib/python3.7/site-packages/pymongo/mongo_client.py\u001B[0m in \u001B[0;36m__start_session\u001B[0;34m(self, implicit, **kwargs)\u001B[0m\n\u001B[1;32m   1881\u001B[0m \u001B[0;34m\u001B[0m\u001B[0m\n\u001B[1;32m   1882\u001B[0m         \u001B[0;31m# Raises ConfigurationError if sessions are not supported.\u001B[0m\u001B[0;34m\u001B[0m\u001B[0;34m\u001B[0m\u001B[0;34m\u001B[0m\u001B[0m\n\u001B[0;32m-> 1883\u001B[0;31m         \u001B[0mserver_session\u001B[0m \u001B[0;34m=\u001B[0m \u001B[0mself\u001B[0m\u001B[0;34m.\u001B[0m\u001B[0m_get_server_session\u001B[0m\u001B[0;34m(\u001B[0m\u001B[0;34m)\u001B[0m\u001B[0;34m\u001B[0m\u001B[0;34m\u001B[0m\u001B[0m\n\u001B[0m\u001B[1;32m   1884\u001B[0m         \u001B[0mopts\u001B[0m \u001B[0;34m=\u001B[0m \u001B[0mclient_session\u001B[0m\u001B[0;34m.\u001B[0m\u001B[0mSessionOptions\u001B[0m\u001B[0;34m(\u001B[0m\u001B[0;34m**\u001B[0m\u001B[0mkwargs\u001B[0m\u001B[0;34m)\u001B[0m\u001B[0;34m\u001B[0m\u001B[0;34m\u001B[0m\u001B[0m\n\u001B[1;32m   1885\u001B[0m         return client_session.ClientSession(\n",
      "\u001B[0;32m~/miniconda3/envs/working/lib/python3.7/site-packages/pymongo/mongo_client.py\u001B[0m in \u001B[0;36m_get_server_session\u001B[0;34m(self)\u001B[0m\n\u001B[1;32m   1919\u001B[0m     \u001B[0;32mdef\u001B[0m \u001B[0m_get_server_session\u001B[0m\u001B[0;34m(\u001B[0m\u001B[0mself\u001B[0m\u001B[0;34m)\u001B[0m\u001B[0;34m:\u001B[0m\u001B[0;34m\u001B[0m\u001B[0;34m\u001B[0m\u001B[0m\n\u001B[1;32m   1920\u001B[0m         \u001B[0;34m\"\"\"Internal: start or resume a _ServerSession.\"\"\"\u001B[0m\u001B[0;34m\u001B[0m\u001B[0;34m\u001B[0m\u001B[0m\n\u001B[0;32m-> 1921\u001B[0;31m         \u001B[0;32mreturn\u001B[0m \u001B[0mself\u001B[0m\u001B[0;34m.\u001B[0m\u001B[0m_topology\u001B[0m\u001B[0;34m.\u001B[0m\u001B[0mget_server_session\u001B[0m\u001B[0;34m(\u001B[0m\u001B[0;34m)\u001B[0m\u001B[0;34m\u001B[0m\u001B[0;34m\u001B[0m\u001B[0m\n\u001B[0m\u001B[1;32m   1922\u001B[0m \u001B[0;34m\u001B[0m\u001B[0m\n\u001B[1;32m   1923\u001B[0m     \u001B[0;32mdef\u001B[0m \u001B[0m_return_server_session\u001B[0m\u001B[0;34m(\u001B[0m\u001B[0mself\u001B[0m\u001B[0;34m,\u001B[0m \u001B[0mserver_session\u001B[0m\u001B[0;34m,\u001B[0m \u001B[0mlock\u001B[0m\u001B[0;34m)\u001B[0m\u001B[0;34m:\u001B[0m\u001B[0;34m\u001B[0m\u001B[0;34m\u001B[0m\u001B[0m\n",
      "\u001B[0;32m~/miniconda3/envs/working/lib/python3.7/site-packages/pymongo/topology.py\u001B[0m in \u001B[0;36mget_server_session\u001B[0;34m(self)\u001B[0m\n\u001B[1;32m    518\u001B[0m             \u001B[0;31m# Sessions are always supported in load balanced mode.\u001B[0m\u001B[0;34m\u001B[0m\u001B[0;34m\u001B[0m\u001B[0;34m\u001B[0m\u001B[0m\n\u001B[1;32m    519\u001B[0m             \u001B[0;32mif\u001B[0m \u001B[0;32mnot\u001B[0m \u001B[0mself\u001B[0m\u001B[0;34m.\u001B[0m\u001B[0m_settings\u001B[0m\u001B[0;34m.\u001B[0m\u001B[0mload_balanced\u001B[0m\u001B[0;34m:\u001B[0m\u001B[0;34m\u001B[0m\u001B[0;34m\u001B[0m\u001B[0m\n\u001B[0;32m--> 520\u001B[0;31m                 \u001B[0msession_timeout\u001B[0m \u001B[0;34m=\u001B[0m \u001B[0mself\u001B[0m\u001B[0;34m.\u001B[0m\u001B[0m_check_session_support\u001B[0m\u001B[0;34m(\u001B[0m\u001B[0;34m)\u001B[0m\u001B[0;34m\u001B[0m\u001B[0;34m\u001B[0m\u001B[0m\n\u001B[0m\u001B[1;32m    521\u001B[0m             \u001B[0;32melse\u001B[0m\u001B[0;34m:\u001B[0m\u001B[0;34m\u001B[0m\u001B[0;34m\u001B[0m\u001B[0m\n\u001B[1;32m    522\u001B[0m                 \u001B[0;31m# Sessions never time out in load balanced mode.\u001B[0m\u001B[0;34m\u001B[0m\u001B[0;34m\u001B[0m\u001B[0;34m\u001B[0m\u001B[0m\n",
      "\u001B[0;32m~/miniconda3/envs/working/lib/python3.7/site-packages/pymongo/topology.py\u001B[0m in \u001B[0;36m_check_session_support\u001B[0;34m(self)\u001B[0m\n\u001B[1;32m    500\u001B[0m                         \u001B[0many_server_selector\u001B[0m\u001B[0;34m,\u001B[0m\u001B[0;34m\u001B[0m\u001B[0;34m\u001B[0m\u001B[0m\n\u001B[1;32m    501\u001B[0m                         \u001B[0mself\u001B[0m\u001B[0;34m.\u001B[0m\u001B[0m_settings\u001B[0m\u001B[0;34m.\u001B[0m\u001B[0mserver_selection_timeout\u001B[0m\u001B[0;34m,\u001B[0m\u001B[0;34m\u001B[0m\u001B[0;34m\u001B[0m\u001B[0m\n\u001B[0;32m--> 502\u001B[0;31m                         None)\n\u001B[0m\u001B[1;32m    503\u001B[0m             \u001B[0;32melif\u001B[0m \u001B[0;32mnot\u001B[0m \u001B[0mself\u001B[0m\u001B[0;34m.\u001B[0m\u001B[0m_description\u001B[0m\u001B[0;34m.\u001B[0m\u001B[0mreadable_servers\u001B[0m\u001B[0;34m:\u001B[0m\u001B[0;34m\u001B[0m\u001B[0;34m\u001B[0m\u001B[0m\n\u001B[1;32m    504\u001B[0m                 self._select_servers_loop(\n",
      "\u001B[0;32m~/miniconda3/envs/working/lib/python3.7/site-packages/pymongo/topology.py\u001B[0m in \u001B[0;36m_select_servers_loop\u001B[0;34m(self, selector, timeout, address)\u001B[0m\n\u001B[1;32m    218\u001B[0m                 raise ServerSelectionTimeoutError(\n\u001B[1;32m    219\u001B[0m                     \u001B[0;34m\"%s, Timeout: %ss, Topology Description: %r\"\u001B[0m \u001B[0;34m%\u001B[0m\u001B[0;34m\u001B[0m\u001B[0;34m\u001B[0m\u001B[0m\n\u001B[0;32m--> 220\u001B[0;31m                     (self._error_message(selector), timeout, self.description))\n\u001B[0m\u001B[1;32m    221\u001B[0m \u001B[0;34m\u001B[0m\u001B[0m\n\u001B[1;32m    222\u001B[0m             \u001B[0mself\u001B[0m\u001B[0;34m.\u001B[0m\u001B[0m_ensure_opened\u001B[0m\u001B[0;34m(\u001B[0m\u001B[0;34m)\u001B[0m\u001B[0;34m\u001B[0m\u001B[0;34m\u001B[0m\u001B[0m\n",
      "\u001B[0;31mServerSelectionTimeoutError\u001B[0m: 127.0.0.1:27017: [Errno 111] Connection refused, Timeout: 30s, Topology Description: <TopologyDescription id: 6117929f535827eb8510ae21, topology_type: Single, servers: [<ServerDescription ('127.0.0.1', 27017) server_type: Unknown, rtt: None, error=AutoReconnect('127.0.0.1:27017: [Errno 111] Connection refused')>]>"
     ]
    }
   ],
   "source": [
    "# CRUD\n",
    "persons.insert_one({   \"_id\": 354618431354,\n",
    "                       \"author\": \"Peter2\",\n",
    "                       \"age\": 56,\n",
    "                       \"text\": \"is cool! Wildberry\",\n",
    "                       \"tags\": ['cool', 'hot', 'ice'],\n",
    "                       \"date\": '14.06.1983'}) # так лучше делать чем many"
   ]
  },
  {
   "cell_type": "code",
   "execution_count": null,
   "metadata": {
    "ExecuteTime": {
     "end_time": "2021-08-14T09:50:50.118085Z",
     "start_time": "2021-08-14T09:50:44.812Z"
    }
   },
   "outputs": [],
   "source": [
    "for item in persons.find({}): # курсор, итерируемый объект,  если просто {} то все вытаскивается\n",
    "    pprint(item)"
   ]
  },
  {
   "cell_type": "code",
   "execution_count": null,
   "metadata": {},
   "outputs": [],
   "source": [
    "insert_result = persons.insert_many([{\"author\": \"John\",\n",
    "               \"age\" : 29,\n",
    "               \"text\": \"Too bad! Strawberry\",\n",
    "               \"tags\": ['ice'],\n",
    "               \"date\": '04.08.1971'},\n",
    "                    {\"author\": \"Anna\",\n",
    "               \"age\" : 36,\n",
    "               \"title\": \"Hot Cool!!!\",\n",
    "               \"text\": \"easy too!\",\n",
    "               \"date\": '26.01.1995'},\n",
    "                   {\"author\": \"Jane\",\n",
    "               \"age\" : 43,\n",
    "               \"title\": \"Nice book\",\n",
    "               \"text\": \"Pretty text not long\",\n",
    "               \"date\": '08.08.1975',\n",
    "               \"tags\":['fantastic','criminal']}\n",
    "      ]) # будет добавлять если нет id то будет каждому добавлять свой уникальный id,\n",
    "# единственное условие монго\n",
    "# если будут одинаковые данные, то будут разные iд но данные все равно добавятся\n",
    "# лучшие всего использовать one потому что таким образом можно провреить есть ли такой объект\n",
    "# в колекции или нет и ток потом добавить\n",
    "# иначе если будет одинаковый id то он будет добавлять пока не встретит однаковый id и\n",
    "# потом упадет фиг знает где и не будет дальше добавлять"
   ]
  },
  {
   "cell_type": "code",
   "execution_count": null,
   "metadata": {},
   "outputs": [],
   "source": [
    "# for item in persons.find({'author': 'Peter2', 'age': 36}): # строго выполняется оба запроса (тут запятая это И)\n",
    "#     pprint(item)"
   ]
  },
  {
   "cell_type": "code",
   "execution_count": null,
   "metadata": {},
   "outputs": [],
   "source": [
    "# for item in persons.find({'$or': [{'author': 'Peter2'}, # логическая или\n",
    "#                                   {'age': 36}\n",
    "#                                  ]\n",
    "#                          }):\n",
    "#     pprint(item)"
   ]
  },
  {
   "cell_type": "code",
   "execution_count": null,
   "metadata": {},
   "outputs": [],
   "source": [
    "# for item in persons.find({'age': {'$lte': 30}}): # lte меньше или равно gte - больше или равно\n",
    "#     pprint(item)\n",
    "\n",
    "\n",
    "# for item in persons.find({'author': {'$regex': '^A'}}): # ищет по первой букве\n",
    "#     pprint(item)\n",
    "\n",
    "# for item in persons.find({'author': 'Peter2'}, {'author': 1, 'age': 1, '_id': 0}): # 1 - True, 0 - False\n",
    "#      pprint(item)\n",
    "\n",
    "# for item in persons.find({}, {'author': 1, 'age': 1, '_id': 0}).sort('author', -1):\n",
    "#      pprint(item)"
   ]
  },
  {
   "cell_type": "code",
   "execution_count": null,
   "metadata": {},
   "outputs": [],
   "source": [
    "doc = {\n",
    "    \"author\": \"Andrey\",\n",
    "               \"age\" : 28,\n",
    "               \"text\": \"is hot!\",\n",
    "               \"date\": '11.09.1991'}\n",
    "\n",
    "\n",
    "result = persons.update_one({'author': 'Peter2'}, {'$set': doc}) # все заменить того чего нет в doc оставить\n",
    "persons.replace_one({'author': 'Petr'}, doc) # если были какие-то колонки то они удаляются \n",
    "# тупо все заменяется и удаляется того чего нет в doc\n",
    "\n",
    "# result.modified_count - счет сколько изменилось\n",
    "# exception не выйдет, потому что не нашлось ну и ладно, а еще \n",
    "# он обновит ток до первого совпадения! не все!\n",
    "\n",
    "# result = persons.update_many({'author': 'Peter2'}, {'$set': {'author': 'Petya'}})\n",
    "# persons.delete_one({'author': 'Petr'})\n",
    "persons.delete_many({})\n",
    "\n",
    "\n",
    "persons.update_one({'author': 'Peter2'}, {'$del', 'author'})\n",
    "\n",
    "for item in persons.find({}):\n",
    "     pprint(item)"
   ]
  },
  {
   "cell_type": "code",
   "execution_count": null,
   "metadata": {},
   "outputs": [],
   "source": []
  }
 ],
 "metadata": {
  "kernelspec": {
   "display_name": "working",
   "language": "python",
   "name": "workings"
  },
  "toc": {
   "base_numbering": 1,
   "nav_menu": {},
   "number_sections": true,
   "sideBar": true,
   "skip_h1_title": false,
   "title_cell": "Table of Contents",
   "title_sidebar": "Contents",
   "toc_cell": false,
   "toc_position": {},
   "toc_section_display": true,
   "toc_window_display": false
  },
  "varInspector": {
   "cols": {
    "lenName": 16,
    "lenType": 16,
    "lenVar": 40
   },
   "kernels_config": {
    "python": {
     "delete_cmd_postfix": "",
     "delete_cmd_prefix": "del ",
     "library": "var_list.py",
     "varRefreshCmd": "print(var_dic_list())"
    },
    "r": {
     "delete_cmd_postfix": ") ",
     "delete_cmd_prefix": "rm(",
     "library": "var_list.r",
     "varRefreshCmd": "cat(var_dic_list()) "
    }
   },
   "types_to_exclude": [
    "module",
    "function",
    "builtin_function_or_method",
    "instance",
    "_Feature"
   ],
   "window_display": false
  }
 },
 "nbformat": 4,
 "nbformat_minor": 4
}