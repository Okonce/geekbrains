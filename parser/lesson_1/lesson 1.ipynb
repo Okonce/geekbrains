{
 "cells": [
  {
   "cell_type": "markdown",
   "metadata": {},
   "source": [
    "# lesson 1"
   ]
  },
  {
   "cell_type": "code",
   "execution_count": 32,
   "metadata": {
    "ExecuteTime": {
     "end_time": "2021-08-06T07:50:49.493572Z",
     "start_time": "2021-08-06T07:50:49.489859Z"
    }
   },
   "outputs": [],
   "source": [
    "import requests\n",
    "import json"
   ]
  },
  {
   "cell_type": "code",
   "execution_count": 11,
   "metadata": {
    "ExecuteTime": {
     "end_time": "2021-08-06T07:39:34.647748Z",
     "start_time": "2021-08-06T07:39:34.645130Z"
    }
   },
   "outputs": [],
   "source": [
    "url = 'https://www.google.ru'"
   ]
  },
  {
   "cell_type": "code",
   "execution_count": 12,
   "metadata": {
    "ExecuteTime": {
     "end_time": "2021-08-06T07:39:35.592491Z",
     "start_time": "2021-08-06T07:39:35.237791Z"
    }
   },
   "outputs": [],
   "source": [
    "response = requests.get(url)"
   ]
  },
  {
   "cell_type": "code",
   "execution_count": 13,
   "metadata": {
    "ExecuteTime": {
     "end_time": "2021-08-06T07:39:36.739106Z",
     "start_time": "2021-08-06T07:39:36.733401Z"
    }
   },
   "outputs": [
    {
     "data": {
      "text/plain": [
       "200"
      ]
     },
     "execution_count": 13,
     "metadata": {},
     "output_type": "execute_result"
    }
   ],
   "source": [
    "response.status_code"
   ]
  },
  {
   "cell_type": "code",
   "execution_count": 14,
   "metadata": {
    "ExecuteTime": {
     "end_time": "2021-08-06T07:39:50.534608Z",
     "start_time": "2021-08-06T07:39:50.530874Z"
    }
   },
   "outputs": [],
   "source": [
    "response.raise_for_status()"
   ]
  },
  {
   "cell_type": "code",
   "execution_count": 15,
   "metadata": {
    "ExecuteTime": {
     "end_time": "2021-08-06T07:40:00.691907Z",
     "start_time": "2021-08-06T07:40:00.685987Z"
    }
   },
   "outputs": [
    {
     "data": {
      "text/plain": [
       "{'Date': 'Fri, 06 Aug 2021 07:39:35 GMT', 'Expires': '-1', 'Cache-Control': 'private, max-age=0', 'Content-Type': 'text/html; charset=windows-1251', 'P3P': 'CP=\"This is not a P3P policy! See g.co/p3phelp for more info.\"', 'Content-Encoding': 'gzip', 'Server': 'gws', 'X-XSS-Protection': '0', 'X-Frame-Options': 'SAMEORIGIN', 'Set-Cookie': '1P_JAR=2021-08-06-07; expires=Sun, 05-Sep-2021 07:39:35 GMT; path=/; domain=.google.ru; Secure, NID=220=D9f80YfhRvwPLo-ns6iUgQaCVpctL51fDJI4yG15EjTshgayLdQBdz_OnMFUSWmo370Ph_So3oxMO1_Vp0KmLYLjTyZDZj7LO4lmTyxvdOxETXx9NZ7qWW7OQ7A17oQv-iJ37YQdE6oGw9fino9GYOsnHwzIFxzCsIUJ2WMnHiI; expires=Sat, 05-Feb-2022 07:39:35 GMT; path=/; domain=.google.ru; HttpOnly', 'Alt-Svc': 'h3=\":443\"; ma=2592000,h3-29=\":443\"; ma=2592000,h3-T051=\":443\"; ma=2592000,h3-Q050=\":443\"; ma=2592000,h3-Q046=\":443\"; ma=2592000,h3-Q043=\":443\"; ma=2592000,quic=\":443\"; ma=2592000; v=\"46,43\"', 'Transfer-Encoding': 'chunked'}"
      ]
     },
     "execution_count": 15,
     "metadata": {},
     "output_type": "execute_result"
    }
   ],
   "source": [
    "response.headers"
   ]
  },
  {
   "cell_type": "code",
   "execution_count": 16,
   "metadata": {
    "ExecuteTime": {
     "end_time": "2021-08-06T07:40:01.505389Z",
     "start_time": "2021-08-06T07:40:01.499250Z"
    }
   },
   "outputs": [
    {
     "data": {
      "text/plain": [
       "'<!doctype html><html itemscope=\"\" itemtype=\"http://schema.org/WebPage\" lang=\"ru\"><head><meta content=\"Поиск информации в интернете: веб страницы, картинки, видео и многое другое.\" name=\"description\"><meta content=\"noodp\" name=\"robots\"><meta content=\"text/html; charset=UTF-8\" http-equiv=\"Content-Type\"><meta content=\"/images/branding/googleg/1x/googleg_standard_color_128dp.png\" itemprop=\"image\"><title>Google</title><script nonce=\"o4SGIWhBpp7xS2qnnp2+1Q==\">(function(){window.google={kEI:\\'N-cMYbTWIOSQrgSgjIOoDQ\\',kEXPI:\\'0,772215,1,530320,56873,954,5104,207,4804,2316,383,246,5,1354,5251,1122515,1197742,541,92,328892,51223,16115,28684,17572,4858,1362,9291,3027,2817,14764,4998,13228,2677,1170,4192,2692,3738,14527,235,4286,2774,919,2370,2711,885,708,1279,2214,237,291,149,1103,840,1030,5267,4120,2023,2297,14670,3227,2847,5,5599,6755,5096,602,7274,3748,1289,3408,907,2,941,2614,13142,3,346,230,6460,148,13975,4,1253,275,2304,1238,5224,577,4684,2014,4067,14308,2658,4242,2459,656,30,11413,2215,2305,638,1494,5586,7266,3269,665,2521,3294,2542,4094,20,3118,6,613,295,3,1327,2214,1,11943,2767,1814,283,38,874,5992,13922,2806,1715,2,3037,20,10965,1337,594,627,905,2377,1590,90,743,1275,3581,997,2051,1819,5995,598,1160,1269,21,1406,1407,2304,293,1532,847,2720,4034,2,509,3,125,517,4088,743,360,1100,87,3673,169,295,2121,434,2,6,1127,1154,119,83,312,642,1359,1023,1513,335,87,555,57,397,82,325,359,158,190,893,90,842,621,1054,328,97,1137,3081,376,179,14,1570,2779,799,158,53,756,508,352,499,47,189,343,174,241,6,166,221,262,59,23,620,472,1671,2,923,282,91,149,23,311,105,1,5598999,3893,226,220,116,5995582,1171,2800696,882,444,1,2,80,1,1796,1,9,2553,1,748,141,795,563,1,4265,1,1,2,1331,4142,2609,155,17,13,72,139,4,2,20,2,169,13,19,46,5,39,96,548,29,2,2,1,2,1,2,2,7,4,1,2,2,2,2,2,2,353,513,186,1,1,158,3,2,2,2,2,2,4,2,3,3,235,34,10,83,23,50,8,4,2,1,23654676,299865,4039038,7,2307,277,61,3,1453,961,1085,111,1851,1049,568,79,117,111\\',kBL:\\'rOg0\\'};google.sn=\\'webhp\\';google.kHL=\\'ru\\';})();(function(){\\nvar f=this||self;var h,k=[];function l(a){for(var b;a&&(!a.getAttribute||!(b=a.getAttribute(\"eid\")));)a=a.parentNode;return b||h}function m(a){for(var b=null;a&&(!a.getAttribute||!(b=a.getAttribute(\"leid\")));)a=a.parentNode;return b}\\nfunction n(a,b,c,d,g){var e=\"\";c||-1!==b.search(\"&ei=\")||(e=\"&ei=\"+l(d),-1===b.search(\"&lei=\")&&(d=m(d))&&(e+=\"&lei=\"+d));d=\"\";!c&&f._cshid&&-1===b.search(\"&cshid=\")&&\"slh\"!==a&&(d=\"&cshid=\"+f._cshid);c=c||\"/\"+(g||\"gen_204\")+\"?atyp=i&ct=\"+a+\"&cad=\"+b+e+\"&zx=\"+Date.now()+d;/^http:/i.test(c)&&\"https:\"===window.location.protocol&&(google.ml&&google.ml(Error(\"a\"),!1,{src:c,glmm:1}),c=\"\");return c};h=google.kEI;google.getEI=l;google.getLEI=m;google.ml=function(){return null};google.log=function(a,b,c,d,g){if(c=n(a,b,c,d,g)){a=new Image;var e=k.length;k[e]=a;a.onerror=a.onload=a.onabort=function(){delete k[e]};a.src=c}};google.logUrl=n;}).call(this);(function(){\\ngoogle.y={};google.sy=[];google.x=function(a,b){if(a)var c=a.id;else{do c=Math.random();while(google.y[c])}google.y[c]=[a,b];return!1};google.sx=function(a){google.sy.push(a)};google.lm=[];google.plm=function(a){google.lm.push.apply(google.lm,a)};google.lq=[];google.load=function(a,b,c){google.lq.push([[a],b,c])};google.loadAll=function(a,b){google.lq.push([a,b])};google.bx=!1;google.lx=function(){};}).call(this);google.f={};(function(){\\ndocument.documentElement.addEventListener(\"submit\",function(b){var a;if(a=b.target){var c=a.getAttribute(\"data-submitfalse\");a=\"1\"==c||\"q\"==c&&!a.elements.q.value?!0:!1}else a=!1;a&&(b.preventDefault(),b.stopPropagation())},!0);document.documentElement.addEventListener(\"click\",function(b){var a;a:{for(a=b.target;a&&a!=document.documentElement;a=a.parentElement)if(\"A\"==a.tagName){a=\"1\"==a.getAttribute(\"data-nohref\");break a}a=!1}a&&b.preventDefault()},!0);}).call(this);</script><style>#gbar,#guser{font-size:13px;padding-top:1px !important;}#gbar{height:22px}#guser{padding-bottom:7px !important;text-align:right}.gbh,.gbd{border-top:1px solid #c9d7f1;font-size:1px}.gbh{height:0;position:absolute;top:24px;width:100%}@media all{.gb1{height:22px;margin-right:.5em;vertical-align:top}#gbar{float:left}}a.gb1,a.gb4{text-decoration:underline !important}a.gb1,a.gb4{color:#00c !important}.gbi .gb4{color:#dd8e27 !important}.gbf .gb4{color:#900 !important}\\n</style><style>body,td,a,p,.h{font-family:arial,sans-serif}body{margin:0;overflow-y:scroll}#gog{padding:3px 8px 0}td{line-height:.8em}.gac_m td{line-height:17px}form{margin-bottom:20px}.h{color:#1558d6}em{font-weight:bold;font-style:normal}.lst{height:25px;width:496px}.gsfi,.lst{font:18px arial,sans-serif}.gsfs{font:17px arial,sans-serif}.ds{display:inline-box;display:inline-block;margin:3px 0 4px;margin-left:4px}input{font-family:inherit}body{background:#fff;color:#000}a{color:#4b11a8;text-decoration:none}a:hover,a:active{text-decoration:underline}.fl a{color:#1558d6}a:visited{color:#4b11a8}.sblc{padding-top:5px}.sblc a{display:block;margin:2px 0;margin-left:13px;font-size:11px}.lsbb{background:#f8f9fa;border:solid 1px;border-color:#dadce0 #70757a #70757a #dadce0;height:30px}.lsbb{display:block}#WqQANb a{display:inline-block;margin:0 12px}.lsb{background:url(/images/nav_logo229.png) 0 -261px repeat-x;border:none;color:#000;cursor:pointer;height:30px;margin:0;outline:0;font:15px arial,sans-serif;vertical-align:top}.lsb:active{background:#dadce0}.lst:focus{outline:none}.tiah{width:458px}</style><script nonce=\"o4SGIWhBpp7xS2qnnp2+1Q==\"></script></head><body bgcolor=\"#fff\"><script nonce=\"o4SGIWhBpp7xS2qnnp2+1Q==\">(function(){var src=\\'/images/nav_logo229.png\\';var iesg=false;document.body.onload = function(){window.n && window.n();if (document.images){new Image().src=src;}\\nif (!iesg){document.f&&document.f.q.focus();document.gbqf&&document.gbqf.q.focus();}\\n}\\n})();</script><div id=\"mngb\"><div id=gbar><nobr><b class=gb1>Поиск</b> <a class=gb1 href=\"https://www.google.ru/imghp?hl=ru&tab=wi\">Картинки</a> <a class=gb1 href=\"https://maps.google.ru/maps?hl=ru&tab=wl\">Карты</a> <a class=gb1 href=\"https://play.google.com/?hl=ru&tab=w8\">Play</a> <a class=gb1 href=\"https://www.youtube.com/?gl=RU&tab=w1\">YouTube</a> <a class=gb1 href=\"https://news.google.com/?tab=wn\">Новости</a> <a class=gb1 href=\"https://mail.google.com/mail/?tab=wm\">Почта</a> <a class=gb1 href=\"https://drive.google.com/?tab=wo\">Диск</a> <a class=gb1 style=\"text-decoration:none\" href=\"https://www.google.ru/intl/ru/about/products?tab=wh\"><u>Ещё</u> &raquo;</a></nobr></div><div id=guser width=100%><nobr><span id=gbn class=gbi></span><span id=gbf class=gbf></span><span id=gbe></span><a href=\"http://www.google.ru/history/optout?hl=ru\" class=gb4>История веб-поиска</a> | <a  href=\"/preferences?hl=ru\" class=gb4>Настройки</a> | <a target=_top id=gb_70 href=\"https://accounts.google.com/ServiceLogin?hl=ru&passive=true&continue=https://www.google.ru/&ec=GAZAAQ\" class=gb4>Войти</a></nobr></div><div class=gbh style=left:0></div><div class=gbh style=right:0></div></div><center><br clear=\"all\" id=\"lgpd\"><div id=\"lga\"><img alt=\"Google\" height=\"92\" src=\"/images/branding/googlelogo/1x/googlelogo_white_background_color_272x92dp.png\" style=\"padding:28px 0 14px\" width=\"272\" id=\"hplogo\"><br><br></div><form action=\"/search\" name=\"f\"><table cellpadding=\"0\" cellspacing=\"0\"><tr valign=\"top\"><td width=\"25%\">&nbsp;</td><td align=\"center\" nowrap=\"\"><input name=\"ie\" value=\"windows-1251\" type=\"hidden\"><input value=\"ru\" name=\"hl\" type=\"hidden\"><input name=\"source\" type=\"hidden\" value=\"hp\"><input name=\"biw\" type=\"hidden\"><input name=\"bih\" type=\"hidden\"><div class=\"ds\" style=\"height:32px;margin:4px 0\"><div style=\"position:relative;zoom:1\"><input class=\"lst tiah\" style=\"margin:0;padding:5px 8px 0 6px;vertical-align:top;color:#000;padding-right:38px\" autocomplete=\"off\" value=\"\" title=\"Поиск в Google\" maxlength=\"2048\" name=\"q\" size=\"57\"><img src=\"/textinputassistant/tia.png\" style=\"position:absolute;cursor:pointer;right:5px;top:4px;z-index:300\" data-script-url=\"/textinputassistant/11/ru_tia.js\" id=\"tsuid1\" alt=\"\" height=\"23\" width=\"27\"><script nonce=\"o4SGIWhBpp7xS2qnnp2+1Q==\">(function(){var id=\\'tsuid1\\';document.getElementById(id).onclick = function(){var s = document.createElement(\\'script\\');s.src = this.getAttribute(\\'data-script-url\\');(document.getElementById(\\'xjsc\\')||document.body).appendChild(s);};})();</script></div></div><br style=\"line-height:0\"><span class=\"ds\"><span class=\"lsbb\"><input class=\"lsb\" value=\"Поиск в Google\" name=\"btnG\" type=\"submit\"></span></span><span class=\"ds\"><span class=\"lsbb\"><input class=\"lsb\" id=\"tsuid2\" value=\"Мне повезёт!\" name=\"btnI\" type=\"submit\"><script nonce=\"o4SGIWhBpp7xS2qnnp2+1Q==\">(function(){var id=\\'tsuid2\\';document.getElementById(id).onclick = function(){if (this.form.q.value){this.checked = 1;if (this.form.iflsig)this.form.iflsig.disabled = false;}\\nelse top.location=\\'/doodles/\\';};})();</script><input value=\"AINFCbYAAAAAYQz1R85Dcp5764qMR2GMsPlvlGbUAH1c\" name=\"iflsig\" type=\"hidden\"></span></span></td><td class=\"fl sblc\" align=\"left\" nowrap=\"\" width=\"25%\"><a href=\"/advanced_search?hl=ru&amp;authuser=0\">Расширенный поиск</a></td></tr></table><input id=\"gbv\" name=\"gbv\" type=\"hidden\" value=\"1\"><script nonce=\"o4SGIWhBpp7xS2qnnp2+1Q==\">(function(){\\nvar a,b=\"1\";if(document&&document.getElementById)if(\"undefined\"!=typeof XMLHttpRequest)b=\"2\";else if(\"undefined\"!=typeof ActiveXObject){var c,d,e=[\"MSXML2.XMLHTTP.6.0\",\"MSXML2.XMLHTTP.3.0\",\"MSXML2.XMLHTTP\",\"Microsoft.XMLHTTP\"];for(c=0;d=e[c++];)try{new ActiveXObject(d),b=\"2\"}catch(h){}}a=b;if(\"2\"==a&&-1==location.search.indexOf(\"&gbv=2\")){var f=google.gbvu,g=document.getElementById(\"gbv\");g&&(g.value=a);f&&window.setTimeout(function(){location.href=f},0)};}).call(this);</script></form><div id=\"gac_scont\"></div><div style=\"font-size:83%;min-height:3.5em\"><br></div><span id=\"footer\"><div style=\"font-size:10pt\"><div style=\"margin:19px auto;text-align:center\" id=\"WqQANb\"><a href=\"/intl/ru/ads/\">Рекламные программы</a><a href=\"http://www.google.ru/intl/ru/services/\">Решения для бизнеса</a><a href=\"/intl/ru/about.html\">Всё о Google</a><a href=\"https://www.google.ru/setprefdomain?prefdom=US&amp;sig=K_dEsZV7TyCH4Ns0KgrArWkXKC9sQ%3D\" id=\"fehl\">Google.com</a></div></div><p style=\"font-size:8pt;color:#70757a\">&copy; 2021 - <a href=\"/intl/ru/policies/privacy/\">Конфиденциальность</a> - <a href=\"/intl/ru/policies/terms/\">Условия</a></p></span></center><script nonce=\"o4SGIWhBpp7xS2qnnp2+1Q==\">(function(){window.google.cdo={height:757,width:1440};(function(){\\nvar a=window.innerWidth,b=window.innerHeight;if(!a||!b){var c=window.document,d=\"CSS1Compat\"==c.compatMode?c.documentElement:c.body;a=d.clientWidth;b=d.clientHeight}a&&b&&(a!=google.cdo.width||b!=google.cdo.height)&&google.log(\"\",\"\",\"/client_204?&atyp=i&biw=\"+a+\"&bih=\"+b+\"&ei=\"+google.kEI);}).call(this);})();</script> <script nonce=\"o4SGIWhBpp7xS2qnnp2+1Q==\">(function(){google.xjs={ck:\\'\\',cs:\\'\\',excm:[]};})();</script>  <script nonce=\"o4SGIWhBpp7xS2qnnp2+1Q==\">(function(){var u=\\'/xjs/_/js/k\\\\x3dxjs.hp.en.5DwT0IWhOhI.O/am\\\\x3dAPgEmA/d\\\\x3d1/ed\\\\x3d1/rs\\\\x3dACT90oGgFnWjQDLoo7w9dyAXUIUD-ZmvyA/m\\\\x3dsb_he,d\\';\\nvar e=this||self,f=function(a){return a};var g;var l=function(a,b){this.g=b===h?a:\"\"};l.prototype.toString=function(){return this.g+\"\"};var h={};function m(){var a=u;google.lx=function(){n(a);google.lx=function(){}};google.bx||google.lx()}\\nfunction n(a){google.timers&&google.timers.load&&google.tick&&google.tick(\"load\",\"xjsls\");var b=document;var c=\"SCRIPT\";\"application/xhtml+xml\"===b.contentType&&(c=c.toLowerCase());c=b.createElement(c);if(void 0===g){b=null;var k=e.trustedTypes;if(k&&k.createPolicy){try{b=k.createPolicy(\"goog#html\",{createHTML:f,createScript:f,createScriptURL:f})}catch(p){e.console&&e.console.error(p.message)}g=b}else g=b}a=(b=g)?b.createScriptURL(a):a;a=new l(a,h);c.src=a instanceof l&&a.constructor===l?a.g:\"type_error:TrustedResourceUrl\";var d;a=(c.ownerDocument&&c.ownerDocument.defaultView||window).document;(d=(a=null===(d=a.querySelector)||void 0===d?void 0:d.call(a,\"script[nonce]\"))?a.nonce||a.getAttribute(\"nonce\")||\"\":\"\")&&c.setAttribute(\"nonce\",d);document.body.appendChild(c);google.psa=!0};setTimeout(function(){m()},0);})();(function(){window.google.xjsu=\\'/xjs/_/js/k\\\\x3dxjs.hp.en.5DwT0IWhOhI.O/am\\\\x3dAPgEmA/d\\\\x3d1/ed\\\\x3d1/rs\\\\x3dACT90oGgFnWjQDLoo7w9dyAXUIUD-ZmvyA/m\\\\x3dsb_he,d\\';})();function _DumpException(e){throw e;}\\nfunction _F_installCss(c){}\\n(function(){google.jl={attn:false,blt:\\'none\\',chnk:0,dw:false,emtn:0,end:0,ine:false,lls:\\'default\\',pdt:0,rep:0,sif:true,snet:true,strt:0,ubm:false,uwp:true};})();(function(){var pmc=\\'{\\\\x22d\\\\x22:{},\\\\x22sb_he\\\\x22:{\\\\x22agen\\\\x22:true,\\\\x22cgen\\\\x22:true,\\\\x22client\\\\x22:\\\\x22heirloom-hp\\\\x22,\\\\x22dh\\\\x22:true,\\\\x22dhqt\\\\x22:true,\\\\x22ds\\\\x22:\\\\x22\\\\x22,\\\\x22ffql\\\\x22:\\\\x22ru\\\\x22,\\\\x22fl\\\\x22:true,\\\\x22host\\\\x22:\\\\x22google.ru\\\\x22,\\\\x22isbh\\\\x22:28,\\\\x22jsonp\\\\x22:true,\\\\x22msgs\\\\x22:{\\\\x22cibl\\\\x22:\\\\x22Удалить поисковый запрос\\\\x22,\\\\x22dym\\\\x22:\\\\x22Возможно, вы имели в виду:\\\\x22,\\\\x22lcky\\\\x22:\\\\x22Мне повезёт!\\\\x22,\\\\x22lml\\\\x22:\\\\x22Подробнее...\\\\x22,\\\\x22oskt\\\\x22:\\\\x22Экранная клавиатура\\\\x22,\\\\x22psrc\\\\x22:\\\\x22Этот запрос был удален из вашей \\\\\\\\u003Ca href\\\\x3d\\\\\\\\\\\\x22/history\\\\\\\\\\\\x22\\\\\\\\u003Eистории веб-поиска\\\\\\\\u003C/a\\\\\\\\u003E\\\\x22,\\\\x22psrl\\\\x22:\\\\x22Удалить\\\\x22,\\\\x22sbit\\\\x22:\\\\x22Поиск по картинке\\\\x22,\\\\x22srch\\\\x22:\\\\x22Поиск в Google\\\\x22},\\\\x22ovr\\\\x22:{},\\\\x22pq\\\\x22:\\\\x22\\\\x22,\\\\x22refpd\\\\x22:true,\\\\x22rfs\\\\x22:[],\\\\x22sbas\\\\x22:\\\\x220 3px 8px 0 rgba(0,0,0,0.2),0 0 0 1px rgba(0,0,0,0.08)\\\\x22,\\\\x22sbpl\\\\x22:16,\\\\x22sbpr\\\\x22:16,\\\\x22scd\\\\x22:10,\\\\x22stok\\\\x22:\\\\x22ChCdaWZ9ql87qcIenkt6JXEvpZ4\\\\x22,\\\\x22uhde\\\\x22:false}}\\';google.pmc=JSON.parse(pmc);})();</script>        </body></html>'"
      ]
     },
     "execution_count": 16,
     "metadata": {},
     "output_type": "execute_result"
    }
   ],
   "source": [
    "response.text"
   ]
  },
  {
   "cell_type": "code",
   "execution_count": 17,
   "metadata": {
    "ExecuteTime": {
     "end_time": "2021-08-06T07:40:12.989712Z",
     "start_time": "2021-08-06T07:40:12.985229Z"
    }
   },
   "outputs": [],
   "source": [
    "if response.status_code == 200:\n",
    "    pass\n",
    "\n",
    "if response.ok:   # 200..399\n",
    "    pass"
   ]
  },
  {
   "cell_type": "code",
   "execution_count": 18,
   "metadata": {
    "ExecuteTime": {
     "end_time": "2021-08-06T07:40:26.128734Z",
     "start_time": "2021-08-06T07:40:26.122348Z"
    }
   },
   "outputs": [
    {
     "data": {
      "text/plain": [
       "b'<!doctype html><html itemscope=\"\" itemtype=\"http://schema.org/WebPage\" lang=\"ru\"><head><meta content=\"\\xcf\\xee\\xe8\\xf1\\xea \\xe8\\xed\\xf4\\xee\\xf0\\xec\\xe0\\xf6\\xe8\\xe8 \\xe2 \\xe8\\xed\\xf2\\xe5\\xf0\\xed\\xe5\\xf2\\xe5: \\xe2\\xe5\\xe1 \\xf1\\xf2\\xf0\\xe0\\xed\\xe8\\xf6\\xfb, \\xea\\xe0\\xf0\\xf2\\xe8\\xed\\xea\\xe8, \\xe2\\xe8\\xe4\\xe5\\xee \\xe8 \\xec\\xed\\xee\\xe3\\xee\\xe5 \\xe4\\xf0\\xf3\\xe3\\xee\\xe5.\" name=\"description\"><meta content=\"noodp\" name=\"robots\"><meta content=\"text/html; charset=UTF-8\" http-equiv=\"Content-Type\"><meta content=\"/images/branding/googleg/1x/googleg_standard_color_128dp.png\" itemprop=\"image\"><title>Google</title><script nonce=\"o4SGIWhBpp7xS2qnnp2+1Q==\">(function(){window.google={kEI:\\'N-cMYbTWIOSQrgSgjIOoDQ\\',kEXPI:\\'0,772215,1,530320,56873,954,5104,207,4804,2316,383,246,5,1354,5251,1122515,1197742,541,92,328892,51223,16115,28684,17572,4858,1362,9291,3027,2817,14764,4998,13228,2677,1170,4192,2692,3738,14527,235,4286,2774,919,2370,2711,885,708,1279,2214,237,291,149,1103,840,1030,5267,4120,2023,2297,14670,3227,2847,5,5599,6755,5096,602,7274,3748,1289,3408,907,2,941,2614,13142,3,346,230,6460,148,13975,4,1253,275,2304,1238,5224,577,4684,2014,4067,14308,2658,4242,2459,656,30,11413,2215,2305,638,1494,5586,7266,3269,665,2521,3294,2542,4094,20,3118,6,613,295,3,1327,2214,1,11943,2767,1814,283,38,874,5992,13922,2806,1715,2,3037,20,10965,1337,594,627,905,2377,1590,90,743,1275,3581,997,2051,1819,5995,598,1160,1269,21,1406,1407,2304,293,1532,847,2720,4034,2,509,3,125,517,4088,743,360,1100,87,3673,169,295,2121,434,2,6,1127,1154,119,83,312,642,1359,1023,1513,335,87,555,57,397,82,325,359,158,190,893,90,842,621,1054,328,97,1137,3081,376,179,14,1570,2779,799,158,53,756,508,352,499,47,189,343,174,241,6,166,221,262,59,23,620,472,1671,2,923,282,91,149,23,311,105,1,5598999,3893,226,220,116,5995582,1171,2800696,882,444,1,2,80,1,1796,1,9,2553,1,748,141,795,563,1,4265,1,1,2,1331,4142,2609,155,17,13,72,139,4,2,20,2,169,13,19,46,5,39,96,548,29,2,2,1,2,1,2,2,7,4,1,2,2,2,2,2,2,353,513,186,1,1,158,3,2,2,2,2,2,4,2,3,3,235,34,10,83,23,50,8,4,2,1,23654676,299865,4039038,7,2307,277,61,3,1453,961,1085,111,1851,1049,568,79,117,111\\',kBL:\\'rOg0\\'};google.sn=\\'webhp\\';google.kHL=\\'ru\\';})();(function(){\\nvar f=this||self;var h,k=[];function l(a){for(var b;a&&(!a.getAttribute||!(b=a.getAttribute(\"eid\")));)a=a.parentNode;return b||h}function m(a){for(var b=null;a&&(!a.getAttribute||!(b=a.getAttribute(\"leid\")));)a=a.parentNode;return b}\\nfunction n(a,b,c,d,g){var e=\"\";c||-1!==b.search(\"&ei=\")||(e=\"&ei=\"+l(d),-1===b.search(\"&lei=\")&&(d=m(d))&&(e+=\"&lei=\"+d));d=\"\";!c&&f._cshid&&-1===b.search(\"&cshid=\")&&\"slh\"!==a&&(d=\"&cshid=\"+f._cshid);c=c||\"/\"+(g||\"gen_204\")+\"?atyp=i&ct=\"+a+\"&cad=\"+b+e+\"&zx=\"+Date.now()+d;/^http:/i.test(c)&&\"https:\"===window.location.protocol&&(google.ml&&google.ml(Error(\"a\"),!1,{src:c,glmm:1}),c=\"\");return c};h=google.kEI;google.getEI=l;google.getLEI=m;google.ml=function(){return null};google.log=function(a,b,c,d,g){if(c=n(a,b,c,d,g)){a=new Image;var e=k.length;k[e]=a;a.onerror=a.onload=a.onabort=function(){delete k[e]};a.src=c}};google.logUrl=n;}).call(this);(function(){\\ngoogle.y={};google.sy=[];google.x=function(a,b){if(a)var c=a.id;else{do c=Math.random();while(google.y[c])}google.y[c]=[a,b];return!1};google.sx=function(a){google.sy.push(a)};google.lm=[];google.plm=function(a){google.lm.push.apply(google.lm,a)};google.lq=[];google.load=function(a,b,c){google.lq.push([[a],b,c])};google.loadAll=function(a,b){google.lq.push([a,b])};google.bx=!1;google.lx=function(){};}).call(this);google.f={};(function(){\\ndocument.documentElement.addEventListener(\"submit\",function(b){var a;if(a=b.target){var c=a.getAttribute(\"data-submitfalse\");a=\"1\"==c||\"q\"==c&&!a.elements.q.value?!0:!1}else a=!1;a&&(b.preventDefault(),b.stopPropagation())},!0);document.documentElement.addEventListener(\"click\",function(b){var a;a:{for(a=b.target;a&&a!=document.documentElement;a=a.parentElement)if(\"A\"==a.tagName){a=\"1\"==a.getAttribute(\"data-nohref\");break a}a=!1}a&&b.preventDefault()},!0);}).call(this);</script><style>#gbar,#guser{font-size:13px;padding-top:1px !important;}#gbar{height:22px}#guser{padding-bottom:7px !important;text-align:right}.gbh,.gbd{border-top:1px solid #c9d7f1;font-size:1px}.gbh{height:0;position:absolute;top:24px;width:100%}@media all{.gb1{height:22px;margin-right:.5em;vertical-align:top}#gbar{float:left}}a.gb1,a.gb4{text-decoration:underline !important}a.gb1,a.gb4{color:#00c !important}.gbi .gb4{color:#dd8e27 !important}.gbf .gb4{color:#900 !important}\\n</style><style>body,td,a,p,.h{font-family:arial,sans-serif}body{margin:0;overflow-y:scroll}#gog{padding:3px 8px 0}td{line-height:.8em}.gac_m td{line-height:17px}form{margin-bottom:20px}.h{color:#1558d6}em{font-weight:bold;font-style:normal}.lst{height:25px;width:496px}.gsfi,.lst{font:18px arial,sans-serif}.gsfs{font:17px arial,sans-serif}.ds{display:inline-box;display:inline-block;margin:3px 0 4px;margin-left:4px}input{font-family:inherit}body{background:#fff;color:#000}a{color:#4b11a8;text-decoration:none}a:hover,a:active{text-decoration:underline}.fl a{color:#1558d6}a:visited{color:#4b11a8}.sblc{padding-top:5px}.sblc a{display:block;margin:2px 0;margin-left:13px;font-size:11px}.lsbb{background:#f8f9fa;border:solid 1px;border-color:#dadce0 #70757a #70757a #dadce0;height:30px}.lsbb{display:block}#WqQANb a{display:inline-block;margin:0 12px}.lsb{background:url(/images/nav_logo229.png) 0 -261px repeat-x;border:none;color:#000;cursor:pointer;height:30px;margin:0;outline:0;font:15px arial,sans-serif;vertical-align:top}.lsb:active{background:#dadce0}.lst:focus{outline:none}.tiah{width:458px}</style><script nonce=\"o4SGIWhBpp7xS2qnnp2+1Q==\"></script></head><body bgcolor=\"#fff\"><script nonce=\"o4SGIWhBpp7xS2qnnp2+1Q==\">(function(){var src=\\'/images/nav_logo229.png\\';var iesg=false;document.body.onload = function(){window.n && window.n();if (document.images){new Image().src=src;}\\nif (!iesg){document.f&&document.f.q.focus();document.gbqf&&document.gbqf.q.focus();}\\n}\\n})();</script><div id=\"mngb\"><div id=gbar><nobr><b class=gb1>\\xcf\\xee\\xe8\\xf1\\xea</b> <a class=gb1 href=\"https://www.google.ru/imghp?hl=ru&tab=wi\">\\xca\\xe0\\xf0\\xf2\\xe8\\xed\\xea\\xe8</a> <a class=gb1 href=\"https://maps.google.ru/maps?hl=ru&tab=wl\">\\xca\\xe0\\xf0\\xf2\\xfb</a> <a class=gb1 href=\"https://play.google.com/?hl=ru&tab=w8\">Play</a> <a class=gb1 href=\"https://www.youtube.com/?gl=RU&tab=w1\">YouTube</a> <a class=gb1 href=\"https://news.google.com/?tab=wn\">\\xcd\\xee\\xe2\\xee\\xf1\\xf2\\xe8</a> <a class=gb1 href=\"https://mail.google.com/mail/?tab=wm\">\\xcf\\xee\\xf7\\xf2\\xe0</a> <a class=gb1 href=\"https://drive.google.com/?tab=wo\">\\xc4\\xe8\\xf1\\xea</a> <a class=gb1 style=\"text-decoration:none\" href=\"https://www.google.ru/intl/ru/about/products?tab=wh\"><u>\\xc5\\xf9\\xb8</u> &raquo;</a></nobr></div><div id=guser width=100%><nobr><span id=gbn class=gbi></span><span id=gbf class=gbf></span><span id=gbe></span><a href=\"http://www.google.ru/history/optout?hl=ru\" class=gb4>\\xc8\\xf1\\xf2\\xee\\xf0\\xe8\\xff \\xe2\\xe5\\xe1-\\xef\\xee\\xe8\\xf1\\xea\\xe0</a> | <a  href=\"/preferences?hl=ru\" class=gb4>\\xcd\\xe0\\xf1\\xf2\\xf0\\xee\\xe9\\xea\\xe8</a> | <a target=_top id=gb_70 href=\"https://accounts.google.com/ServiceLogin?hl=ru&passive=true&continue=https://www.google.ru/&ec=GAZAAQ\" class=gb4>\\xc2\\xee\\xe9\\xf2\\xe8</a></nobr></div><div class=gbh style=left:0></div><div class=gbh style=right:0></div></div><center><br clear=\"all\" id=\"lgpd\"><div id=\"lga\"><img alt=\"Google\" height=\"92\" src=\"/images/branding/googlelogo/1x/googlelogo_white_background_color_272x92dp.png\" style=\"padding:28px 0 14px\" width=\"272\" id=\"hplogo\"><br><br></div><form action=\"/search\" name=\"f\"><table cellpadding=\"0\" cellspacing=\"0\"><tr valign=\"top\"><td width=\"25%\">&nbsp;</td><td align=\"center\" nowrap=\"\"><input name=\"ie\" value=\"windows-1251\" type=\"hidden\"><input value=\"ru\" name=\"hl\" type=\"hidden\"><input name=\"source\" type=\"hidden\" value=\"hp\"><input name=\"biw\" type=\"hidden\"><input name=\"bih\" type=\"hidden\"><div class=\"ds\" style=\"height:32px;margin:4px 0\"><div style=\"position:relative;zoom:1\"><input class=\"lst tiah\" style=\"margin:0;padding:5px 8px 0 6px;vertical-align:top;color:#000;padding-right:38px\" autocomplete=\"off\" value=\"\" title=\"\\xcf\\xee\\xe8\\xf1\\xea \\xe2 Google\" maxlength=\"2048\" name=\"q\" size=\"57\"><img src=\"/textinputassistant/tia.png\" style=\"position:absolute;cursor:pointer;right:5px;top:4px;z-index:300\" data-script-url=\"/textinputassistant/11/ru_tia.js\" id=\"tsuid1\" alt=\"\" height=\"23\" width=\"27\"><script nonce=\"o4SGIWhBpp7xS2qnnp2+1Q==\">(function(){var id=\\'tsuid1\\';document.getElementById(id).onclick = function(){var s = document.createElement(\\'script\\');s.src = this.getAttribute(\\'data-script-url\\');(document.getElementById(\\'xjsc\\')||document.body).appendChild(s);};})();</script></div></div><br style=\"line-height:0\"><span class=\"ds\"><span class=\"lsbb\"><input class=\"lsb\" value=\"\\xcf\\xee\\xe8\\xf1\\xea \\xe2 Google\" name=\"btnG\" type=\"submit\"></span></span><span class=\"ds\"><span class=\"lsbb\"><input class=\"lsb\" id=\"tsuid2\" value=\"\\xcc\\xed\\xe5 \\xef\\xee\\xe2\\xe5\\xe7\\xb8\\xf2!\" name=\"btnI\" type=\"submit\"><script nonce=\"o4SGIWhBpp7xS2qnnp2+1Q==\">(function(){var id=\\'tsuid2\\';document.getElementById(id).onclick = function(){if (this.form.q.value){this.checked = 1;if (this.form.iflsig)this.form.iflsig.disabled = false;}\\nelse top.location=\\'/doodles/\\';};})();</script><input value=\"AINFCbYAAAAAYQz1R85Dcp5764qMR2GMsPlvlGbUAH1c\" name=\"iflsig\" type=\"hidden\"></span></span></td><td class=\"fl sblc\" align=\"left\" nowrap=\"\" width=\"25%\"><a href=\"/advanced_search?hl=ru&amp;authuser=0\">\\xd0\\xe0\\xf1\\xf8\\xe8\\xf0\\xe5\\xed\\xed\\xfb\\xe9 \\xef\\xee\\xe8\\xf1\\xea</a></td></tr></table><input id=\"gbv\" name=\"gbv\" type=\"hidden\" value=\"1\"><script nonce=\"o4SGIWhBpp7xS2qnnp2+1Q==\">(function(){\\nvar a,b=\"1\";if(document&&document.getElementById)if(\"undefined\"!=typeof XMLHttpRequest)b=\"2\";else if(\"undefined\"!=typeof ActiveXObject){var c,d,e=[\"MSXML2.XMLHTTP.6.0\",\"MSXML2.XMLHTTP.3.0\",\"MSXML2.XMLHTTP\",\"Microsoft.XMLHTTP\"];for(c=0;d=e[c++];)try{new ActiveXObject(d),b=\"2\"}catch(h){}}a=b;if(\"2\"==a&&-1==location.search.indexOf(\"&gbv=2\")){var f=google.gbvu,g=document.getElementById(\"gbv\");g&&(g.value=a);f&&window.setTimeout(function(){location.href=f},0)};}).call(this);</script></form><div id=\"gac_scont\"></div><div style=\"font-size:83%;min-height:3.5em\"><br></div><span id=\"footer\"><div style=\"font-size:10pt\"><div style=\"margin:19px auto;text-align:center\" id=\"WqQANb\"><a href=\"/intl/ru/ads/\">\\xd0\\xe5\\xea\\xeb\\xe0\\xec\\xed\\xfb\\xe5 \\xef\\xf0\\xee\\xe3\\xf0\\xe0\\xec\\xec\\xfb</a><a href=\"http://www.google.ru/intl/ru/services/\">\\xd0\\xe5\\xf8\\xe5\\xed\\xe8\\xff \\xe4\\xeb\\xff \\xe1\\xe8\\xe7\\xed\\xe5\\xf1\\xe0</a><a href=\"/intl/ru/about.html\">\\xc2\\xf1\\xb8 \\xee Google</a><a href=\"https://www.google.ru/setprefdomain?prefdom=US&amp;sig=K_dEsZV7TyCH4Ns0KgrArWkXKC9sQ%3D\" id=\"fehl\">Google.com</a></div></div><p style=\"font-size:8pt;color:#70757a\">&copy; 2021 - <a href=\"/intl/ru/policies/privacy/\">\\xca\\xee\\xed\\xf4\\xe8\\xe4\\xe5\\xed\\xf6\\xe8\\xe0\\xeb\\xfc\\xed\\xee\\xf1\\xf2\\xfc</a> - <a href=\"/intl/ru/policies/terms/\">\\xd3\\xf1\\xeb\\xee\\xe2\\xe8\\xff</a></p></span></center><script nonce=\"o4SGIWhBpp7xS2qnnp2+1Q==\">(function(){window.google.cdo={height:757,width:1440};(function(){\\nvar a=window.innerWidth,b=window.innerHeight;if(!a||!b){var c=window.document,d=\"CSS1Compat\"==c.compatMode?c.documentElement:c.body;a=d.clientWidth;b=d.clientHeight}a&&b&&(a!=google.cdo.width||b!=google.cdo.height)&&google.log(\"\",\"\",\"/client_204?&atyp=i&biw=\"+a+\"&bih=\"+b+\"&ei=\"+google.kEI);}).call(this);})();</script> <script nonce=\"o4SGIWhBpp7xS2qnnp2+1Q==\">(function(){google.xjs={ck:\\'\\',cs:\\'\\',excm:[]};})();</script>  <script nonce=\"o4SGIWhBpp7xS2qnnp2+1Q==\">(function(){var u=\\'/xjs/_/js/k\\\\x3dxjs.hp.en.5DwT0IWhOhI.O/am\\\\x3dAPgEmA/d\\\\x3d1/ed\\\\x3d1/rs\\\\x3dACT90oGgFnWjQDLoo7w9dyAXUIUD-ZmvyA/m\\\\x3dsb_he,d\\';\\nvar e=this||self,f=function(a){return a};var g;var l=function(a,b){this.g=b===h?a:\"\"};l.prototype.toString=function(){return this.g+\"\"};var h={};function m(){var a=u;google.lx=function(){n(a);google.lx=function(){}};google.bx||google.lx()}\\nfunction n(a){google.timers&&google.timers.load&&google.tick&&google.tick(\"load\",\"xjsls\");var b=document;var c=\"SCRIPT\";\"application/xhtml+xml\"===b.contentType&&(c=c.toLowerCase());c=b.createElement(c);if(void 0===g){b=null;var k=e.trustedTypes;if(k&&k.createPolicy){try{b=k.createPolicy(\"goog#html\",{createHTML:f,createScript:f,createScriptURL:f})}catch(p){e.console&&e.console.error(p.message)}g=b}else g=b}a=(b=g)?b.createScriptURL(a):a;a=new l(a,h);c.src=a instanceof l&&a.constructor===l?a.g:\"type_error:TrustedResourceUrl\";var d;a=(c.ownerDocument&&c.ownerDocument.defaultView||window).document;(d=(a=null===(d=a.querySelector)||void 0===d?void 0:d.call(a,\"script[nonce]\"))?a.nonce||a.getAttribute(\"nonce\")||\"\":\"\")&&c.setAttribute(\"nonce\",d);document.body.appendChild(c);google.psa=!0};setTimeout(function(){m()},0);})();(function(){window.google.xjsu=\\'/xjs/_/js/k\\\\x3dxjs.hp.en.5DwT0IWhOhI.O/am\\\\x3dAPgEmA/d\\\\x3d1/ed\\\\x3d1/rs\\\\x3dACT90oGgFnWjQDLoo7w9dyAXUIUD-ZmvyA/m\\\\x3dsb_he,d\\';})();function _DumpException(e){throw e;}\\nfunction _F_installCss(c){}\\n(function(){google.jl={attn:false,blt:\\'none\\',chnk:0,dw:false,emtn:0,end:0,ine:false,lls:\\'default\\',pdt:0,rep:0,sif:true,snet:true,strt:0,ubm:false,uwp:true};})();(function(){var pmc=\\'{\\\\x22d\\\\x22:{},\\\\x22sb_he\\\\x22:{\\\\x22agen\\\\x22:true,\\\\x22cgen\\\\x22:true,\\\\x22client\\\\x22:\\\\x22heirloom-hp\\\\x22,\\\\x22dh\\\\x22:true,\\\\x22dhqt\\\\x22:true,\\\\x22ds\\\\x22:\\\\x22\\\\x22,\\\\x22ffql\\\\x22:\\\\x22ru\\\\x22,\\\\x22fl\\\\x22:true,\\\\x22host\\\\x22:\\\\x22google.ru\\\\x22,\\\\x22isbh\\\\x22:28,\\\\x22jsonp\\\\x22:true,\\\\x22msgs\\\\x22:{\\\\x22cibl\\\\x22:\\\\x22\\xd3\\xe4\\xe0\\xeb\\xe8\\xf2\\xfc \\xef\\xee\\xe8\\xf1\\xea\\xee\\xe2\\xfb\\xe9 \\xe7\\xe0\\xef\\xf0\\xee\\xf1\\\\x22,\\\\x22dym\\\\x22:\\\\x22\\xc2\\xee\\xe7\\xec\\xee\\xe6\\xed\\xee, \\xe2\\xfb \\xe8\\xec\\xe5\\xeb\\xe8 \\xe2 \\xe2\\xe8\\xe4\\xf3:\\\\x22,\\\\x22lcky\\\\x22:\\\\x22\\xcc\\xed\\xe5 \\xef\\xee\\xe2\\xe5\\xe7\\xb8\\xf2!\\\\x22,\\\\x22lml\\\\x22:\\\\x22\\xcf\\xee\\xe4\\xf0\\xee\\xe1\\xed\\xe5\\xe5...\\\\x22,\\\\x22oskt\\\\x22:\\\\x22\\xdd\\xea\\xf0\\xe0\\xed\\xed\\xe0\\xff \\xea\\xeb\\xe0\\xe2\\xe8\\xe0\\xf2\\xf3\\xf0\\xe0\\\\x22,\\\\x22psrc\\\\x22:\\\\x22\\xdd\\xf2\\xee\\xf2 \\xe7\\xe0\\xef\\xf0\\xee\\xf1 \\xe1\\xfb\\xeb \\xf3\\xe4\\xe0\\xeb\\xe5\\xed \\xe8\\xe7 \\xe2\\xe0\\xf8\\xe5\\xe9 \\\\\\\\u003Ca href\\\\x3d\\\\\\\\\\\\x22/history\\\\\\\\\\\\x22\\\\\\\\u003E\\xe8\\xf1\\xf2\\xee\\xf0\\xe8\\xe8 \\xe2\\xe5\\xe1-\\xef\\xee\\xe8\\xf1\\xea\\xe0\\\\\\\\u003C/a\\\\\\\\u003E\\\\x22,\\\\x22psrl\\\\x22:\\\\x22\\xd3\\xe4\\xe0\\xeb\\xe8\\xf2\\xfc\\\\x22,\\\\x22sbit\\\\x22:\\\\x22\\xcf\\xee\\xe8\\xf1\\xea \\xef\\xee \\xea\\xe0\\xf0\\xf2\\xe8\\xed\\xea\\xe5\\\\x22,\\\\x22srch\\\\x22:\\\\x22\\xcf\\xee\\xe8\\xf1\\xea \\xe2 Google\\\\x22},\\\\x22ovr\\\\x22:{},\\\\x22pq\\\\x22:\\\\x22\\\\x22,\\\\x22refpd\\\\x22:true,\\\\x22rfs\\\\x22:[],\\\\x22sbas\\\\x22:\\\\x220 3px 8px 0 rgba(0,0,0,0.2),0 0 0 1px rgba(0,0,0,0.08)\\\\x22,\\\\x22sbpl\\\\x22:16,\\\\x22sbpr\\\\x22:16,\\\\x22scd\\\\x22:10,\\\\x22stok\\\\x22:\\\\x22ChCdaWZ9ql87qcIenkt6JXEvpZ4\\\\x22,\\\\x22uhde\\\\x22:false}}\\';google.pmc=JSON.parse(pmc);})();</script>        </body></html>'"
      ]
     },
     "execution_count": 18,
     "metadata": {},
     "output_type": "execute_result"
    }
   ],
   "source": [
    "response.content"
   ]
  },
  {
   "cell_type": "code",
   "execution_count": null,
   "metadata": {},
   "outputs": [],
   "source": [
    "with open('file.jpg', 'wb') as f:\n",
    "    f.write(response.content)"
   ]
  },
  {
   "cell_type": "markdown",
   "metadata": {},
   "source": [
    "# homework"
   ]
  },
  {
   "cell_type": "markdown",
   "metadata": {},
   "source": [
    "Посмотреть документацию к API GitHub, разобраться как вывести список репозиториев для конкретного пользователя, сохранить JSON-вывод в файле *.json."
   ]
  },
  {
   "cell_type": "code",
   "execution_count": 24,
   "metadata": {
    "ExecuteTime": {
     "end_time": "2021-08-06T07:47:32.215381Z",
     "start_time": "2021-08-06T07:47:32.208913Z"
    }
   },
   "outputs": [],
   "source": [
    "url = 'http://api.github.com'"
   ]
  },
  {
   "cell_type": "code",
   "execution_count": 25,
   "metadata": {
    "ExecuteTime": {
     "end_time": "2021-08-06T07:47:32.731500Z",
     "start_time": "2021-08-06T07:47:32.728470Z"
    }
   },
   "outputs": [],
   "source": [
    "name = '/users/Okonce/repos'"
   ]
  },
  {
   "cell_type": "code",
   "execution_count": 26,
   "metadata": {
    "ExecuteTime": {
     "end_time": "2021-08-06T07:47:43.130434Z",
     "start_time": "2021-08-06T07:47:43.126594Z"
    }
   },
   "outputs": [],
   "source": [
    "headers = {'Accept': 'application/vnd.github.v3+json'}"
   ]
  },
  {
   "cell_type": "code",
   "execution_count": 27,
   "metadata": {
    "ExecuteTime": {
     "end_time": "2021-08-06T07:47:45.616649Z",
     "start_time": "2021-08-06T07:47:45.120936Z"
    }
   },
   "outputs": [],
   "source": [
    "response = requests.get(url + name, headers)"
   ]
  },
  {
   "cell_type": "code",
   "execution_count": 30,
   "metadata": {
    "ExecuteTime": {
     "end_time": "2021-08-06T07:48:23.354630Z",
     "start_time": "2021-08-06T07:48:23.348252Z"
    }
   },
   "outputs": [
    {
     "data": {
      "text/plain": [
       "'[{\"id\":342223343,\"node_id\":\"MDEwOlJlcG9zaXRvcnkzNDIyMjMzNDM=\",\"name\":\"active_learning\",\"full_name\":\"Okonce/active_learning\",\"private\":false,\"owner\":{\"login\":\"Okonce\",\"id\":35014287,\"node_id\":\"MDQ6VXNlcjM1MDE0Mjg3\",\"avatar_url\":\"https://avatars.githubusercontent.com/u/35014287?v=4\",\"gravatar_id\":\"\",\"url\":\"https://api.github.com/users/Okonce\",\"html_url\":\"https://github.com/Okonce\",\"followers_url\":\"https://api.github.com/users/Okonce/followers\",\"following_url\":\"https://api.github.com/users/Okonce/following{/other_user}\",\"gists_url\":\"https://api.github.com/users/Okonce/gists{/gist_id}\",\"starred_url\":\"https://api.github.com/users/Okonce/starred{/owner}{/repo}\",\"subscriptions_url\":\"https://api.github.com/users/Okonce/subscriptions\",\"organizations_url\":\"https://api.github.com/users/Okonce/orgs\",\"repos_url\":\"https://api.github.com/users/Okonce/repos\",\"events_url\":\"https://api.github.com/users/Okonce/events{/privacy}\",\"received_events_url\":\"https://api.github.com/users/Okonce/received_events\",\"type\":\"User\",\"site_admin\":false},\"html_url\":\"https://github.com/Okonce/active_learning\",\"description\":null,\"fork\":true,\"url\":\"https://api.github.com/repos/Okonce/active_learning\",\"forks_url\":\"https://api.github.com/repos/Okonce/active_learning/forks\",\"keys_url\":\"https://api.github.com/repos/Okonce/active_learning/keys{/key_id}\",\"collaborators_url\":\"https://api.github.com/repos/Okonce/active_learning/collaborators{/collaborator}\",\"teams_url\":\"https://api.github.com/repos/Okonce/active_learning/teams\",\"hooks_url\":\"https://api.github.com/repos/Okonce/active_learning/hooks\",\"issue_events_url\":\"https://api.github.com/repos/Okonce/active_learning/issues/events{/number}\",\"events_url\":\"https://api.github.com/repos/Okonce/active_learning/events\",\"assignees_url\":\"https://api.github.com/repos/Okonce/active_learning/assignees{/user}\",\"branches_url\":\"https://api.github.com/repos/Okonce/active_learning/branches{/branch}\",\"tags_url\":\"https://api.github.com/repos/Okonce/active_learning/tags\",\"blobs_url\":\"https://api.github.com/repos/Okonce/active_learning/git/blobs{/sha}\",\"git_tags_url\":\"https://api.github.com/repos/Okonce/active_learning/git/tags{/sha}\",\"git_refs_url\":\"https://api.github.com/repos/Okonce/active_learning/git/refs{/sha}\",\"trees_url\":\"https://api.github.com/repos/Okonce/active_learning/git/trees{/sha}\",\"statuses_url\":\"https://api.github.com/repos/Okonce/active_learning/statuses/{sha}\",\"languages_url\":\"https://api.github.com/repos/Okonce/active_learning/languages\",\"stargazers_url\":\"https://api.github.com/repos/Okonce/active_learning/stargazers\",\"contributors_url\":\"https://api.github.com/repos/Okonce/active_learning/contributors\",\"subscribers_url\":\"https://api.github.com/repos/Okonce/active_learning/subscribers\",\"subscription_url\":\"https://api.github.com/repos/Okonce/active_learning/subscription\",\"commits_url\":\"https://api.github.com/repos/Okonce/active_learning/commits{/sha}\",\"git_commits_url\":\"https://api.github.com/repos/Okonce/active_learning/git/commits{/sha}\",\"comments_url\":\"https://api.github.com/repos/Okonce/active_learning/comments{/number}\",\"issue_comment_url\":\"https://api.github.com/repos/Okonce/active_learning/issues/comments{/number}\",\"contents_url\":\"https://api.github.com/repos/Okonce/active_learning/contents/{+path}\",\"compare_url\":\"https://api.github.com/repos/Okonce/active_learning/compare/{base}...{head}\",\"merges_url\":\"https://api.github.com/repos/Okonce/active_learning/merges\",\"archive_url\":\"https://api.github.com/repos/Okonce/active_learning/{archive_format}{/ref}\",\"downloads_url\":\"https://api.github.com/repos/Okonce/active_learning/downloads\",\"issues_url\":\"https://api.github.com/repos/Okonce/active_learning/issues{/number}\",\"pulls_url\":\"https://api.github.com/repos/Okonce/active_learning/pulls{/number}\",\"milestones_url\":\"https://api.github.com/repos/Okonce/active_learning/milestones{/number}\",\"notifications_url\":\"https://api.github.com/repos/Okonce/active_learning/notifications{?since,all,participating}\",\"labels_url\":\"https://api.github.com/repos/Okonce/active_learning/labels{/name}\",\"releases_url\":\"https://api.github.com/repos/Okonce/active_learning/releases{/id}\",\"deployments_url\":\"https://api.github.com/repos/Okonce/active_learning/deployments\",\"created_at\":\"2021-02-25T11:33:16Z\",\"updated_at\":\"2021-02-25T11:33:17Z\",\"pushed_at\":\"2021-02-24T18:55:31Z\",\"git_url\":\"git://github.com/Okonce/active_learning.git\",\"ssh_url\":\"git@github.com:Okonce/active_learning.git\",\"clone_url\":\"https://github.com/Okonce/active_learning.git\",\"svn_url\":\"https://github.com/Okonce/active_learning\",\"homepage\":null,\"size\":3,\"stargazers_count\":0,\"watchers_count\":0,\"language\":null,\"has_issues\":false,\"has_projects\":true,\"has_downloads\":true,\"has_wiki\":true,\"has_pages\":false,\"forks_count\":0,\"mirror_url\":null,\"archived\":false,\"disabled\":false,\"open_issues_count\":0,\"license\":null,\"forks\":0,\"open_issues\":0,\"watchers\":0,\"default_branch\":\"main\"},{\"id\":236782272,\"node_id\":\"MDEwOlJlcG9zaXRvcnkyMzY3ODIyNzI=\",\"name\":\"CIMM\",\"full_name\":\"Okonce/CIMM\",\"private\":false,\"owner\":{\"login\":\"Okonce\",\"id\":35014287,\"node_id\":\"MDQ6VXNlcjM1MDE0Mjg3\",\"avatar_url\":\"https://avatars.githubusercontent.com/u/35014287?v=4\",\"gravatar_id\":\"\",\"url\":\"https://api.github.com/users/Okonce\",\"html_url\":\"https://github.com/Okonce\",\"followers_url\":\"https://api.github.com/users/Okonce/followers\",\"following_url\":\"https://api.github.com/users/Okonce/following{/other_user}\",\"gists_url\":\"https://api.github.com/users/Okonce/gists{/gist_id}\",\"starred_url\":\"https://api.github.com/users/Okonce/starred{/owner}{/repo}\",\"subscriptions_url\":\"https://api.github.com/users/Okonce/subscriptions\",\"organizations_url\":\"https://api.github.com/users/Okonce/orgs\",\"repos_url\":\"https://api.github.com/users/Okonce/repos\",\"events_url\":\"https://api.github.com/users/Okonce/events{/privacy}\",\"received_events_url\":\"https://api.github.com/users/Okonce/received_events\",\"type\":\"User\",\"site_admin\":false},\"html_url\":\"https://github.com/Okonce/CIMM\",\"description\":\"Lab WEB-site\",\"fork\":true,\"url\":\"https://api.github.com/repos/Okonce/CIMM\",\"forks_url\":\"https://api.github.com/repos/Okonce/CIMM/forks\",\"keys_url\":\"https://api.github.com/repos/Okonce/CIMM/keys{/key_id}\",\"collaborators_url\":\"https://api.github.com/repos/Okonce/CIMM/collaborators{/collaborator}\",\"teams_url\":\"https://api.github.com/repos/Okonce/CIMM/teams\",\"hooks_url\":\"https://api.github.com/repos/Okonce/CIMM/hooks\",\"issue_events_url\":\"https://api.github.com/repos/Okonce/CIMM/issues/events{/number}\",\"events_url\":\"https://api.github.com/repos/Okonce/CIMM/events\",\"assignees_url\":\"https://api.github.com/repos/Okonce/CIMM/assignees{/user}\",\"branches_url\":\"https://api.github.com/repos/Okonce/CIMM/branches{/branch}\",\"tags_url\":\"https://api.github.com/repos/Okonce/CIMM/tags\",\"blobs_url\":\"https://api.github.com/repos/Okonce/CIMM/git/blobs{/sha}\",\"git_tags_url\":\"https://api.github.com/repos/Okonce/CIMM/git/tags{/sha}\",\"git_refs_url\":\"https://api.github.com/repos/Okonce/CIMM/git/refs{/sha}\",\"trees_url\":\"https://api.github.com/repos/Okonce/CIMM/git/trees{/sha}\",\"statuses_url\":\"https://api.github.com/repos/Okonce/CIMM/statuses/{sha}\",\"languages_url\":\"https://api.github.com/repos/Okonce/CIMM/languages\",\"stargazers_url\":\"https://api.github.com/repos/Okonce/CIMM/stargazers\",\"contributors_url\":\"https://api.github.com/repos/Okonce/CIMM/contributors\",\"subscribers_url\":\"https://api.github.com/repos/Okonce/CIMM/subscribers\",\"subscription_url\":\"https://api.github.com/repos/Okonce/CIMM/subscription\",\"commits_url\":\"https://api.github.com/repos/Okonce/CIMM/commits{/sha}\",\"git_commits_url\":\"https://api.github.com/repos/Okonce/CIMM/git/commits{/sha}\",\"comments_url\":\"https://api.github.com/repos/Okonce/CIMM/comments{/number}\",\"issue_comment_url\":\"https://api.github.com/repos/Okonce/CIMM/issues/comments{/number}\",\"contents_url\":\"https://api.github.com/repos/Okonce/CIMM/contents/{+path}\",\"compare_url\":\"https://api.github.com/repos/Okonce/CIMM/compare/{base}...{head}\",\"merges_url\":\"https://api.github.com/repos/Okonce/CIMM/merges\",\"archive_url\":\"https://api.github.com/repos/Okonce/CIMM/{archive_format}{/ref}\",\"downloads_url\":\"https://api.github.com/repos/Okonce/CIMM/downloads\",\"issues_url\":\"https://api.github.com/repos/Okonce/CIMM/issues{/number}\",\"pulls_url\":\"https://api.github.com/repos/Okonce/CIMM/pulls{/number}\",\"milestones_url\":\"https://api.github.com/repos/Okonce/CIMM/milestones{/number}\",\"notifications_url\":\"https://api.github.com/repos/Okonce/CIMM/notifications{?since,all,participating}\",\"labels_url\":\"https://api.github.com/repos/Okonce/CIMM/labels{/name}\",\"releases_url\":\"https://api.github.com/repos/Okonce/CIMM/releases{/id}\",\"deployments_url\":\"https://api.github.com/repos/Okonce/CIMM/deployments\",\"created_at\":\"2020-01-28T16:32:25Z\",\"updated_at\":\"2020-01-28T17:12:54Z\",\"pushed_at\":\"2020-01-28T17:12:52Z\",\"git_url\":\"git://github.com/Okonce/CIMM.git\",\"ssh_url\":\"git@github.com:Okonce/CIMM.git\",\"clone_url\":\"https://github.com/Okonce/CIMM.git\",\"svn_url\":\"https://github.com/Okonce/CIMM\",\"homepage\":null,\"size\":7547,\"stargazers_count\":0,\"watchers_count\":0,\"language\":\"TeX\",\"has_issues\":false,\"has_projects\":true,\"has_downloads\":true,\"has_wiki\":true,\"has_pages\":false,\"forks_count\":0,\"mirror_url\":null,\"archived\":false,\"disabled\":false,\"open_issues_count\":0,\"license\":null,\"forks\":0,\"open_issues\":0,\"watchers\":0,\"default_branch\":\"master\"},{\"id\":130983533,\"node_id\":\"MDEwOlJlcG9zaXRvcnkxMzA5ODM1MzM=\",\"name\":\"CIMtools\",\"full_name\":\"Okonce/CIMtools\",\"private\":false,\"owner\":{\"login\":\"Okonce\",\"id\":35014287,\"node_id\":\"MDQ6VXNlcjM1MDE0Mjg3\",\"avatar_url\":\"https://avatars.githubusercontent.com/u/35014287?v=4\",\"gravatar_id\":\"\",\"url\":\"https://api.github.com/users/Okonce\",\"html_url\":\"https://github.com/Okonce\",\"followers_url\":\"https://api.github.com/users/Okonce/followers\",\"following_url\":\"https://api.github.com/users/Okonce/following{/other_user}\",\"gists_url\":\"https://api.github.com/users/Okonce/gists{/gist_id}\",\"starred_url\":\"https://api.github.com/users/Okonce/starred{/owner}{/repo}\",\"subscriptions_url\":\"https://api.github.com/users/Okonce/subscriptions\",\"organizations_url\":\"https://api.github.com/users/Okonce/orgs\",\"repos_url\":\"https://api.github.com/users/Okonce/repos\",\"events_url\":\"https://api.github.com/users/Okonce/events{/privacy}\",\"received_events_url\":\"https://api.github.com/users/Okonce/received_events\",\"type\":\"User\",\"site_admin\":false},\"html_url\":\"https://github.com/Okonce/CIMtools\",\"description\":null,\"fork\":true,\"url\":\"https://api.github.com/repos/Okonce/CIMtools\",\"forks_url\":\"https://api.github.com/repos/Okonce/CIMtools/forks\",\"keys_url\":\"https://api.github.com/repos/Okonce/CIMtools/keys{/key_id}\",\"collaborators_url\":\"https://api.github.com/repos/Okonce/CIMtools/collaborators{/collaborator}\",\"teams_url\":\"https://api.github.com/repos/Okonce/CIMtools/teams\",\"hooks_url\":\"https://api.github.com/repos/Okonce/CIMtools/hooks\",\"issue_events_url\":\"https://api.github.com/repos/Okonce/CIMtools/issues/events{/number}\",\"events_url\":\"https://api.github.com/repos/Okonce/CIMtools/events\",\"assignees_url\":\"https://api.github.com/repos/Okonce/CIMtools/assignees{/user}\",\"branches_url\":\"https://api.github.com/repos/Okonce/CIMtools/branches{/branch}\",\"tags_url\":\"https://api.github.com/repos/Okonce/CIMtools/tags\",\"blobs_url\":\"https://api.github.com/repos/Okonce/CIMtools/git/blobs{/sha}\",\"git_tags_url\":\"https://api.github.com/repos/Okonce/CIMtools/git/tags{/sha}\",\"git_refs_url\":\"https://api.github.com/repos/Okonce/CIMtools/git/refs{/sha}\",\"trees_url\":\"https://api.github.com/repos/Okonce/CIMtools/git/trees{/sha}\",\"statuses_url\":\"https://api.github.com/repos/Okonce/CIMtools/statuses/{sha}\",\"languages_url\":\"https://api.github.com/repos/Okonce/CIMtools/languages\",\"stargazers_url\":\"https://api.github.com/repos/Okonce/CIMtools/stargazers\",\"contributors_url\":\"https://api.github.com/repos/Okonce/CIMtools/contributors\",\"subscribers_url\":\"https://api.github.com/repos/Okonce/CIMtools/subscribers\",\"subscription_url\":\"https://api.github.com/repos/Okonce/CIMtools/subscription\",\"commits_url\":\"https://api.github.com/repos/Okonce/CIMtools/commits{/sha}\",\"git_commits_url\":\"https://api.github.com/repos/Okonce/CIMtools/git/commits{/sha}\",\"comments_url\":\"https://api.github.com/repos/Okonce/CIMtools/comments{/number}\",\"issue_comment_url\":\"https://api.github.com/repos/Okonce/CIMtools/issues/comments{/number}\",\"contents_url\":\"https://api.github.com/repos/Okonce/CIMtools/contents/{+path}\",\"compare_url\":\"https://api.github.com/repos/Okonce/CIMtools/compare/{base}...{head}\",\"merges_url\":\"https://api.github.com/repos/Okonce/CIMtools/merges\",\"archive_url\":\"https://api.github.com/repos/Okonce/CIMtools/{archive_format}{/ref}\",\"downloads_url\":\"https://api.github.com/repos/Okonce/CIMtools/downloads\",\"issues_url\":\"https://api.github.com/repos/Okonce/CIMtools/issues{/number}\",\"pulls_url\":\"https://api.github.com/repos/Okonce/CIMtools/pulls{/number}\",\"milestones_url\":\"https://api.github.com/repos/Okonce/CIMtools/milestones{/number}\",\"notifications_url\":\"https://api.github.com/repos/Okonce/CIMtools/notifications{?since,all,participating}\",\"labels_url\":\"https://api.github.com/repos/Okonce/CIMtools/labels{/name}\",\"releases_url\":\"https://api.github.com/repos/Okonce/CIMtools/releases{/id}\",\"deployments_url\":\"https://api.github.com/repos/Okonce/CIMtools/deployments\",\"created_at\":\"2018-04-25T09:33:46Z\",\"updated_at\":\"2021-01-19T09:35:29Z\",\"pushed_at\":\"2021-03-21T21:18:46Z\",\"git_url\":\"git://github.com/Okonce/CIMtools.git\",\"ssh_url\":\"git@github.com:Okonce/CIMtools.git\",\"clone_url\":\"https://github.com/Okonce/CIMtools.git\",\"svn_url\":\"https://github.com/Okonce/CIMtools\",\"homepage\":null,\"size\":38348,\"stargazers_count\":0,\"watchers_count\":0,\"language\":\"Python\",\"has_issues\":false,\"has_projects\":true,\"has_downloads\":true,\"has_wiki\":true,\"has_pages\":false,\"forks_count\":1,\"mirror_url\":null,\"archived\":false,\"disabled\":false,\"open_issues_count\":1,\"license\":{\"key\":\"gpl-3.0\",\"name\":\"GNU General Public License v3.0\",\"spdx_id\":\"GPL-3.0\",\"url\":\"https://api.github.com/licenses/gpl-3.0\",\"node_id\":\"MDc6TGljZW5zZTk=\"},\"forks\":1,\"open_issues\":1,\"watchers\":0,\"default_branch\":\"master\"},{\"id\":337172388,\"node_id\":\"MDEwOlJlcG9zaXRvcnkzMzcxNzIzODg=\",\"name\":\"geekbrains\",\"full_name\":\"Okonce/geekbrains\",\"private\":false,\"owner\":{\"login\":\"Okonce\",\"id\":35014287,\"node_id\":\"MDQ6VXNlcjM1MDE0Mjg3\",\"avatar_url\":\"https://avatars.githubusercontent.com/u/35014287?v=4\",\"gravatar_id\":\"\",\"url\":\"https://api.github.com/users/Okonce\",\"html_url\":\"https://github.com/Okonce\",\"followers_url\":\"https://api.github.com/users/Okonce/followers\",\"following_url\":\"https://api.github.com/users/Okonce/following{/other_user}\",\"gists_url\":\"https://api.github.com/users/Okonce/gists{/gist_id}\",\"starred_url\":\"https://api.github.com/users/Okonce/starred{/owner}{/repo}\",\"subscriptions_url\":\"https://api.github.com/users/Okonce/subscriptions\",\"organizations_url\":\"https://api.github.com/users/Okonce/orgs\",\"repos_url\":\"https://api.github.com/users/Okonce/repos\",\"events_url\":\"https://api.github.com/users/Okonce/events{/privacy}\",\"received_events_url\":\"https://api.github.com/users/Okonce/received_events\",\"type\":\"User\",\"site_admin\":false},\"html_url\":\"https://github.com/Okonce/geekbrains\",\"description\":null,\"fork\":false,\"url\":\"https://api.github.com/repos/Okonce/geekbrains\",\"forks_url\":\"https://api.github.com/repos/Okonce/geekbrains/forks\",\"keys_url\":\"https://api.github.com/repos/Okonce/geekbrains/keys{/key_id}\",\"collaborators_url\":\"https://api.github.com/repos/Okonce/geekbrains/collaborators{/collaborator}\",\"teams_url\":\"https://api.github.com/repos/Okonce/geekbrains/teams\",\"hooks_url\":\"https://api.github.com/repos/Okonce/geekbrains/hooks\",\"issue_events_url\":\"https://api.github.com/repos/Okonce/geekbrains/issues/events{/number}\",\"events_url\":\"https://api.github.com/repos/Okonce/geekbrains/events\",\"assignees_url\":\"https://api.github.com/repos/Okonce/geekbrains/assignees{/user}\",\"branches_url\":\"https://api.github.com/repos/Okonce/geekbrains/branches{/branch}\",\"tags_url\":\"https://api.github.com/repos/Okonce/geekbrains/tags\",\"blobs_url\":\"https://api.github.com/repos/Okonce/geekbrains/git/blobs{/sha}\",\"git_tags_url\":\"https://api.github.com/repos/Okonce/geekbrains/git/tags{/sha}\",\"git_refs_url\":\"https://api.github.com/repos/Okonce/geekbrains/git/refs{/sha}\",\"trees_url\":\"https://api.github.com/repos/Okonce/geekbrains/git/trees{/sha}\",\"statuses_url\":\"https://api.github.com/repos/Okonce/geekbrains/statuses/{sha}\",\"languages_url\":\"https://api.github.com/repos/Okonce/geekbrains/languages\",\"stargazers_url\":\"https://api.github.com/repos/Okonce/geekbrains/stargazers\",\"contributors_url\":\"https://api.github.com/repos/Okonce/geekbrains/contributors\",\"subscribers_url\":\"https://api.github.com/repos/Okonce/geekbrains/subscribers\",\"subscription_url\":\"https://api.github.com/repos/Okonce/geekbrains/subscription\",\"commits_url\":\"https://api.github.com/repos/Okonce/geekbrains/commits{/sha}\",\"git_commits_url\":\"https://api.github.com/repos/Okonce/geekbrains/git/commits{/sha}\",\"comments_url\":\"https://api.github.com/repos/Okonce/geekbrains/comments{/number}\",\"issue_comment_url\":\"https://api.github.com/repos/Okonce/geekbrains/issues/comments{/number}\",\"contents_url\":\"https://api.github.com/repos/Okonce/geekbrains/contents/{+path}\",\"compare_url\":\"https://api.github.com/repos/Okonce/geekbrains/compare/{base}...{head}\",\"merges_url\":\"https://api.github.com/repos/Okonce/geekbrains/merges\",\"archive_url\":\"https://api.github.com/repos/Okonce/geekbrains/{archive_format}{/ref}\",\"downloads_url\":\"https://api.github.com/repos/Okonce/geekbrains/downloads\",\"issues_url\":\"https://api.github.com/repos/Okonce/geekbrains/issues{/number}\",\"pulls_url\":\"https://api.github.com/repos/Okonce/geekbrains/pulls{/number}\",\"milestones_url\":\"https://api.github.com/repos/Okonce/geekbrains/milestones{/number}\",\"notifications_url\":\"https://api.github.com/repos/Okonce/geekbrains/notifications{?since,all,participating}\",\"labels_url\":\"https://api.github.com/repos/Okonce/geekbrains/labels{/name}\",\"releases_url\":\"https://api.github.com/repos/Okonce/geekbrains/releases{/id}\",\"deployments_url\":\"https://api.github.com/repos/Okonce/geekbrains/deployments\",\"created_at\":\"2021-02-08T18:34:41Z\",\"updated_at\":\"2021-06-17T08:47:41Z\",\"pushed_at\":\"2021-07-12T12:13:05Z\",\"git_url\":\"git://github.com/Okonce/geekbrains.git\",\"ssh_url\":\"git@github.com:Okonce/geekbrains.git\",\"clone_url\":\"https://github.com/Okonce/geekbrains.git\",\"svn_url\":\"https://github.com/Okonce/geekbrains\",\"homepage\":null,\"size\":831,\"stargazers_count\":0,\"watchers_count\":0,\"language\":\"Jupyter Notebook\",\"has_issues\":true,\"has_projects\":true,\"has_downloads\":true,\"has_wiki\":true,\"has_pages\":false,\"forks_count\":0,\"mirror_url\":null,\"archived\":false,\"disabled\":false,\"open_issues_count\":5,\"license\":null,\"forks\":0,\"open_issues\":5,\"watchers\":0,\"default_branch\":\"master\"},{\"id\":154045895,\"node_id\":\"MDEwOlJlcG9zaXRvcnkxNTQwNDU4OTU=\",\"name\":\"mlcourse.ai\",\"full_name\":\"Okonce/mlcourse.ai\",\"private\":false,\"owner\":{\"login\":\"Okonce\",\"id\":35014287,\"node_id\":\"MDQ6VXNlcjM1MDE0Mjg3\",\"avatar_url\":\"https://avatars.githubusercontent.com/u/35014287?v=4\",\"gravatar_id\":\"\",\"url\":\"https://api.github.com/users/Okonce\",\"html_url\":\"https://github.com/Okonce\",\"followers_url\":\"https://api.github.com/users/Okonce/followers\",\"following_url\":\"https://api.github.com/users/Okonce/following{/other_user}\",\"gists_url\":\"https://api.github.com/users/Okonce/gists{/gist_id}\",\"starred_url\":\"https://api.github.com/users/Okonce/starred{/owner}{/repo}\",\"subscriptions_url\":\"https://api.github.com/users/Okonce/subscriptions\",\"organizations_url\":\"https://api.github.com/users/Okonce/orgs\",\"repos_url\":\"https://api.github.com/users/Okonce/repos\",\"events_url\":\"https://api.github.com/users/Okonce/events{/privacy}\",\"received_events_url\":\"https://api.github.com/users/Okonce/received_events\",\"type\":\"User\",\"site_admin\":false},\"html_url\":\"https://github.com/Okonce/mlcourse.ai\",\"description\":\"Open Machine Learning Course\",\"fork\":true,\"url\":\"https://api.github.com/repos/Okonce/mlcourse.ai\",\"forks_url\":\"https://api.github.com/repos/Okonce/mlcourse.ai/forks\",\"keys_url\":\"https://api.github.com/repos/Okonce/mlcourse.ai/keys{/key_id}\",\"collaborators_url\":\"https://api.github.com/repos/Okonce/mlcourse.ai/collaborators{/collaborator}\",\"teams_url\":\"https://api.github.com/repos/Okonce/mlcourse.ai/teams\",\"hooks_url\":\"https://api.github.com/repos/Okonce/mlcourse.ai/hooks\",\"issue_events_url\":\"https://api.github.com/repos/Okonce/mlcourse.ai/issues/events{/number}\",\"events_url\":\"https://api.github.com/repos/Okonce/mlcourse.ai/events\",\"assignees_url\":\"https://api.github.com/repos/Okonce/mlcourse.ai/assignees{/user}\",\"branches_url\":\"https://api.github.com/repos/Okonce/mlcourse.ai/branches{/branch}\",\"tags_url\":\"https://api.github.com/repos/Okonce/mlcourse.ai/tags\",\"blobs_url\":\"https://api.github.com/repos/Okonce/mlcourse.ai/git/blobs{/sha}\",\"git_tags_url\":\"https://api.github.com/repos/Okonce/mlcourse.ai/git/tags{/sha}\",\"git_refs_url\":\"https://api.github.com/repos/Okonce/mlcourse.ai/git/refs{/sha}\",\"trees_url\":\"https://api.github.com/repos/Okonce/mlcourse.ai/git/trees{/sha}\",\"statuses_url\":\"https://api.github.com/repos/Okonce/mlcourse.ai/statuses/{sha}\",\"languages_url\":\"https://api.github.com/repos/Okonce/mlcourse.ai/languages\",\"stargazers_url\":\"https://api.github.com/repos/Okonce/mlcourse.ai/stargazers\",\"contributors_url\":\"https://api.github.com/repos/Okonce/mlcourse.ai/contributors\",\"subscribers_url\":\"https://api.github.com/repos/Okonce/mlcourse.ai/subscribers\",\"subscription_url\":\"https://api.github.com/repos/Okonce/mlcourse.ai/subscription\",\"commits_url\":\"https://api.github.com/repos/Okonce/mlcourse.ai/commits{/sha}\",\"git_commits_url\":\"https://api.github.com/repos/Okonce/mlcourse.ai/git/commits{/sha}\",\"comments_url\":\"https://api.github.com/repos/Okonce/mlcourse.ai/comments{/number}\",\"issue_comment_url\":\"https://api.github.com/repos/Okonce/mlcourse.ai/issues/comments{/number}\",\"contents_url\":\"https://api.github.com/repos/Okonce/mlcourse.ai/contents/{+path}\",\"compare_url\":\"https://api.github.com/repos/Okonce/mlcourse.ai/compare/{base}...{head}\",\"merges_url\":\"https://api.github.com/repos/Okonce/mlcourse.ai/merges\",\"archive_url\":\"https://api.github.com/repos/Okonce/mlcourse.ai/{archive_format}{/ref}\",\"downloads_url\":\"https://api.github.com/repos/Okonce/mlcourse.ai/downloads\",\"issues_url\":\"https://api.github.com/repos/Okonce/mlcourse.ai/issues{/number}\",\"pulls_url\":\"https://api.github.com/repos/Okonce/mlcourse.ai/pulls{/number}\",\"milestones_url\":\"https://api.github.com/repos/Okonce/mlcourse.ai/milestones{/number}\",\"notifications_url\":\"https://api.github.com/repos/Okonce/mlcourse.ai/notifications{?since,all,participating}\",\"labels_url\":\"https://api.github.com/repos/Okonce/mlcourse.ai/labels{/name}\",\"releases_url\":\"https://api.github.com/repos/Okonce/mlcourse.ai/releases{/id}\",\"deployments_url\":\"https://api.github.com/repos/Okonce/mlcourse.ai/deployments\",\"created_at\":\"2018-10-21T19:45:11Z\",\"updated_at\":\"2018-10-21T19:45:16Z\",\"pushed_at\":\"2018-10-21T13:28:12Z\",\"git_url\":\"git://github.com/Okonce/mlcourse.ai.git\",\"ssh_url\":\"git@github.com:Okonce/mlcourse.ai.git\",\"clone_url\":\"https://github.com/Okonce/mlcourse.ai.git\",\"svn_url\":\"https://github.com/Okonce/mlcourse.ai\",\"homepage\":\"https://mlcourse.ai\",\"size\":474770,\"stargazers_count\":0,\"watchers_count\":0,\"language\":\"Python\",\"has_issues\":false,\"has_projects\":true,\"has_downloads\":true,\"has_wiki\":true,\"has_pages\":false,\"forks_count\":0,\"mirror_url\":null,\"archived\":false,\"disabled\":false,\"open_issues_count\":0,\"license\":{\"key\":\"other\",\"name\":\"Other\",\"spdx_id\":\"NOASSERTION\",\"url\":null,\"node_id\":\"MDc6TGljZW5zZTA=\"},\"forks\":0,\"open_issues\":0,\"watchers\":0,\"default_branch\":\"master\"}]'"
      ]
     },
     "execution_count": 30,
     "metadata": {},
     "output_type": "execute_result"
    }
   ],
   "source": [
    "response.text"
   ]
  },
  {
   "cell_type": "code",
   "execution_count": 33,
   "metadata": {
    "ExecuteTime": {
     "end_time": "2021-08-06T07:50:53.574389Z",
     "start_time": "2021-08-06T07:50:53.536395Z"
    }
   },
   "outputs": [],
   "source": [
    "with open('response.json', 'w') as f: \n",
    "    json.dump(response.json(), f)"
   ]
  },
  {
   "cell_type": "code",
   "execution_count": 34,
   "metadata": {
    "ExecuteTime": {
     "end_time": "2021-08-06T07:51:10.445345Z",
     "start_time": "2021-08-06T07:51:10.438911Z"
    }
   },
   "outputs": [],
   "source": [
    "with open('response.json', 'r') as f: \n",
    "    response = json.load(f)"
   ]
  },
  {
   "cell_type": "code",
   "execution_count": 36,
   "metadata": {
    "ExecuteTime": {
     "end_time": "2021-08-06T07:51:34.712676Z",
     "start_time": "2021-08-06T07:51:34.707366Z"
    }
   },
   "outputs": [
    {
     "name": "stdout",
     "output_type": "stream",
     "text": [
      "active_learning\n",
      "CIMM\n",
      "CIMtools\n",
      "geekbrains\n",
      "mlcourse.ai\n"
     ]
    }
   ],
   "source": [
    "for rep in response:\n",
    "    print(rep['name'])"
   ]
  },
  {
   "cell_type": "code",
   "execution_count": null,
   "metadata": {},
   "outputs": [],
   "source": []
  }
 ],
 "metadata": {
  "kernelspec": {
   "display_name": "working",
   "language": "python",
   "name": "workings"
  },
  "language_info": {
   "codemirror_mode": {
    "name": "ipython",
    "version": 3
   },
   "file_extension": ".py",
   "mimetype": "text/x-python",
   "name": "python",
   "nbconvert_exporter": "python",
   "pygments_lexer": "ipython3",
   "version": "3.7.7"
  },
  "toc": {
   "base_numbering": 1,
   "nav_menu": {},
   "number_sections": true,
   "sideBar": true,
   "skip_h1_title": false,
   "title_cell": "Table of Contents",
   "title_sidebar": "Contents",
   "toc_cell": false,
   "toc_position": {},
   "toc_section_display": true,
   "toc_window_display": true
  },
  "varInspector": {
   "cols": {
    "lenName": 16,
    "lenType": 16,
    "lenVar": 40
   },
   "kernels_config": {
    "python": {
     "delete_cmd_postfix": "",
     "delete_cmd_prefix": "del ",
     "library": "var_list.py",
     "varRefreshCmd": "print(var_dic_list())"
    },
    "r": {
     "delete_cmd_postfix": ") ",
     "delete_cmd_prefix": "rm(",
     "library": "var_list.r",
     "varRefreshCmd": "cat(var_dic_list()) "
    }
   },
   "types_to_exclude": [
    "module",
    "function",
    "builtin_function_or_method",
    "instance",
    "_Feature"
   ],
   "window_display": false
  }
 },
 "nbformat": 4,
 "nbformat_minor": 4
}
